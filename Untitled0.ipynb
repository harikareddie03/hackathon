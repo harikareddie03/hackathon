{
  "nbformat": 4,
  "nbformat_minor": 0,
  "metadata": {
    "colab": {
      "provenance": [],
      "authorship_tag": "ABX9TyOCsjtH0ULYLhdsufkVEXAR",
      "include_colab_link": true
    },
    "kernelspec": {
      "name": "python3",
      "display_name": "Python 3"
    },
    "language_info": {
      "name": "python"
    }
  },
  "cells": [
    {
      "cell_type": "markdown",
      "metadata": {
        "id": "view-in-github",
        "colab_type": "text"
      },
      "source": [
        "<a href=\"https://colab.research.google.com/github/harikareddie03/hackathon/blob/main/Untitled0.ipynb\" target=\"_parent\"><img src=\"https://colab.research.google.com/assets/colab-badge.svg\" alt=\"Open In Colab\"/></a>"
      ]
    },
    {
      "cell_type": "code",
      "execution_count": 2,
      "metadata": {
        "id": "oEx07M7XQWqY"
      },
      "outputs": [],
      "source": [
        "import pandas as pd\n",
        "\n",
        "ev_sales = pd.DataFrame({\n",
        "    'Sale_ID': ['S001', 'S002', 'S003', 'S004', 'S005', None],\n",
        "    'Model': ['Leaf', 'Model 3', 'Kona', 'e-Verito', 'Nexon EV', 'ZS EV'],\n",
        "    'Brand': ['Nissan', 'Tesla', 'Hyundai', 'Mahindra', 'Tata', 'MG'],\n",
        "    'Price': [2800000, 4500000, 3200000, None, 1500000, 2500000],\n",
        "    'Units_Sold': [3, 2, 1, 2, None, 1],\n",
        "    'Sale_Date': ['2024-04-01', '2024-04-01', '2024/04/02', '2024-04-03', '2024-04-04', '2024-04-04'],\n",
        "    'City': ['Bangalore', 'Mumbai', 'Bangalore', 'Hyderabad', 'Hyderabad', 'Pune']\n",
        "})\n",
        "\n",
        "\n",
        "city_info = pd.DataFrame({\n",
        "    'City': ['Bangalore', 'Mumbai', 'Hyderabad', 'Pune'],\n",
        "    'Region': ['South', 'West', 'South', 'West'],\n",
        "    'Branch_Manager': ['Anil', 'Priya', 'Imran', 'Kavita']\n",
        "})\n",
        "\n",
        "# 1. Handling Missing Data\n",
        "# Check how many missing values are there in each column of the dataset.\n",
        "# Drop any rows where Model or City is missing.\n",
        "# Fill missing Units_Sold with the median units sold.\n",
        "# Fill missing Price with the average price per Brand.\n",
        "# Fill missing Sale_ID with 'Unknown'.\n",
        "\n",
        "\n",
        "#  2. Data Type Conversion\n",
        "# Convert the Price and Units_Sold columns to numeric types.\n",
        "# Convert the Sale_Date column into datetime format.\n",
        "# Convert City and Brand columns to string type.\n",
        "# Check the data types of all columns and convert if needed.\n",
        "# Extract the year from Sale_Date and create a new column."
      ]
    },
    {
      "cell_type": "code",
      "source": [
        "ev_sales.isnull().sum()"
      ],
      "metadata": {
        "colab": {
          "base_uri": "https://localhost:8080/",
          "height": 304
        },
        "id": "0kdMc2ThQx6l",
        "outputId": "4fc402f4-1b33-433a-ff4e-2a042552d4ad"
      },
      "execution_count": 3,
      "outputs": [
        {
          "output_type": "execute_result",
          "data": {
            "text/plain": [
              "Sale_ID       1\n",
              "Model         0\n",
              "Brand         0\n",
              "Price         1\n",
              "Units_Sold    1\n",
              "Sale_Date     0\n",
              "City          0\n",
              "dtype: int64"
            ],
            "text/html": [
              "<div>\n",
              "<style scoped>\n",
              "    .dataframe tbody tr th:only-of-type {\n",
              "        vertical-align: middle;\n",
              "    }\n",
              "\n",
              "    .dataframe tbody tr th {\n",
              "        vertical-align: top;\n",
              "    }\n",
              "\n",
              "    .dataframe thead th {\n",
              "        text-align: right;\n",
              "    }\n",
              "</style>\n",
              "<table border=\"1\" class=\"dataframe\">\n",
              "  <thead>\n",
              "    <tr style=\"text-align: right;\">\n",
              "      <th></th>\n",
              "      <th>0</th>\n",
              "    </tr>\n",
              "  </thead>\n",
              "  <tbody>\n",
              "    <tr>\n",
              "      <th>Sale_ID</th>\n",
              "      <td>1</td>\n",
              "    </tr>\n",
              "    <tr>\n",
              "      <th>Model</th>\n",
              "      <td>0</td>\n",
              "    </tr>\n",
              "    <tr>\n",
              "      <th>Brand</th>\n",
              "      <td>0</td>\n",
              "    </tr>\n",
              "    <tr>\n",
              "      <th>Price</th>\n",
              "      <td>1</td>\n",
              "    </tr>\n",
              "    <tr>\n",
              "      <th>Units_Sold</th>\n",
              "      <td>1</td>\n",
              "    </tr>\n",
              "    <tr>\n",
              "      <th>Sale_Date</th>\n",
              "      <td>0</td>\n",
              "    </tr>\n",
              "    <tr>\n",
              "      <th>City</th>\n",
              "      <td>0</td>\n",
              "    </tr>\n",
              "  </tbody>\n",
              "</table>\n",
              "</div><br><label><b>dtype:</b> int64</label>"
            ]
          },
          "metadata": {},
          "execution_count": 3
        }
      ]
    },
    {
      "cell_type": "code",
      "source": [
        "ev_sales['Model'].dropna()"
      ],
      "metadata": {
        "colab": {
          "base_uri": "https://localhost:8080/",
          "height": 272
        },
        "id": "MhRIxcAkRCfO",
        "outputId": "9ceb9093-f751-4e71-ea42-4852cbba16b0"
      },
      "execution_count": 4,
      "outputs": [
        {
          "output_type": "execute_result",
          "data": {
            "text/plain": [
              "0        Leaf\n",
              "1     Model 3\n",
              "2        Kona\n",
              "3    e-Verito\n",
              "4    Nexon EV\n",
              "5       ZS EV\n",
              "Name: Model, dtype: object"
            ],
            "text/html": [
              "<div>\n",
              "<style scoped>\n",
              "    .dataframe tbody tr th:only-of-type {\n",
              "        vertical-align: middle;\n",
              "    }\n",
              "\n",
              "    .dataframe tbody tr th {\n",
              "        vertical-align: top;\n",
              "    }\n",
              "\n",
              "    .dataframe thead th {\n",
              "        text-align: right;\n",
              "    }\n",
              "</style>\n",
              "<table border=\"1\" class=\"dataframe\">\n",
              "  <thead>\n",
              "    <tr style=\"text-align: right;\">\n",
              "      <th></th>\n",
              "      <th>Model</th>\n",
              "    </tr>\n",
              "  </thead>\n",
              "  <tbody>\n",
              "    <tr>\n",
              "      <th>0</th>\n",
              "      <td>Leaf</td>\n",
              "    </tr>\n",
              "    <tr>\n",
              "      <th>1</th>\n",
              "      <td>Model 3</td>\n",
              "    </tr>\n",
              "    <tr>\n",
              "      <th>2</th>\n",
              "      <td>Kona</td>\n",
              "    </tr>\n",
              "    <tr>\n",
              "      <th>3</th>\n",
              "      <td>e-Verito</td>\n",
              "    </tr>\n",
              "    <tr>\n",
              "      <th>4</th>\n",
              "      <td>Nexon EV</td>\n",
              "    </tr>\n",
              "    <tr>\n",
              "      <th>5</th>\n",
              "      <td>ZS EV</td>\n",
              "    </tr>\n",
              "  </tbody>\n",
              "</table>\n",
              "</div><br><label><b>dtype:</b> object</label>"
            ]
          },
          "metadata": {},
          "execution_count": 4
        }
      ]
    },
    {
      "cell_type": "code",
      "source": [
        "ev_sales['Units_Sold']=ev_sales['Units_Sold'].fillna(ev_sales['Units_Sold'].median())\n",
        "ev_sales['Units_Sold']"
      ],
      "metadata": {
        "colab": {
          "base_uri": "https://localhost:8080/",
          "height": 272
        },
        "id": "S4vBYw5IRQu9",
        "outputId": "397ba4c8-ba6d-4bfe-a7df-e37751a26e79"
      },
      "execution_count": 5,
      "outputs": [
        {
          "output_type": "execute_result",
          "data": {
            "text/plain": [
              "0    3.0\n",
              "1    2.0\n",
              "2    1.0\n",
              "3    2.0\n",
              "4    2.0\n",
              "5    1.0\n",
              "Name: Units_Sold, dtype: float64"
            ],
            "text/html": [
              "<div>\n",
              "<style scoped>\n",
              "    .dataframe tbody tr th:only-of-type {\n",
              "        vertical-align: middle;\n",
              "    }\n",
              "\n",
              "    .dataframe tbody tr th {\n",
              "        vertical-align: top;\n",
              "    }\n",
              "\n",
              "    .dataframe thead th {\n",
              "        text-align: right;\n",
              "    }\n",
              "</style>\n",
              "<table border=\"1\" class=\"dataframe\">\n",
              "  <thead>\n",
              "    <tr style=\"text-align: right;\">\n",
              "      <th></th>\n",
              "      <th>Units_Sold</th>\n",
              "    </tr>\n",
              "  </thead>\n",
              "  <tbody>\n",
              "    <tr>\n",
              "      <th>0</th>\n",
              "      <td>3.0</td>\n",
              "    </tr>\n",
              "    <tr>\n",
              "      <th>1</th>\n",
              "      <td>2.0</td>\n",
              "    </tr>\n",
              "    <tr>\n",
              "      <th>2</th>\n",
              "      <td>1.0</td>\n",
              "    </tr>\n",
              "    <tr>\n",
              "      <th>3</th>\n",
              "      <td>2.0</td>\n",
              "    </tr>\n",
              "    <tr>\n",
              "      <th>4</th>\n",
              "      <td>2.0</td>\n",
              "    </tr>\n",
              "    <tr>\n",
              "      <th>5</th>\n",
              "      <td>1.0</td>\n",
              "    </tr>\n",
              "  </tbody>\n",
              "</table>\n",
              "</div><br><label><b>dtype:</b> float64</label>"
            ]
          },
          "metadata": {},
          "execution_count": 5
        }
      ]
    },
    {
      "cell_type": "code",
      "source": [
        "# ev_sales['Price']=ev_sales['Price'].fillna(ev_sales['Price'].avg())\n",
        "# ev_sales['Price']"
      ],
      "metadata": {
        "id": "ioisBFAVRzdj"
      },
      "execution_count": 6,
      "outputs": []
    },
    {
      "cell_type": "code",
      "source": [
        "ev_sales['Sale_ID']=ev_sales['Sale_ID'].fillna('Unknown')\n",
        "ev_sales['Sale_ID']"
      ],
      "metadata": {
        "colab": {
          "base_uri": "https://localhost:8080/",
          "height": 272
        },
        "id": "v6wTrt55SOa9",
        "outputId": "25451498-46cf-4ae6-fa1a-1eeab33c42d5"
      },
      "execution_count": 7,
      "outputs": [
        {
          "output_type": "execute_result",
          "data": {
            "text/plain": [
              "0       S001\n",
              "1       S002\n",
              "2       S003\n",
              "3       S004\n",
              "4       S005\n",
              "5    Unknown\n",
              "Name: Sale_ID, dtype: object"
            ],
            "text/html": [
              "<div>\n",
              "<style scoped>\n",
              "    .dataframe tbody tr th:only-of-type {\n",
              "        vertical-align: middle;\n",
              "    }\n",
              "\n",
              "    .dataframe tbody tr th {\n",
              "        vertical-align: top;\n",
              "    }\n",
              "\n",
              "    .dataframe thead th {\n",
              "        text-align: right;\n",
              "    }\n",
              "</style>\n",
              "<table border=\"1\" class=\"dataframe\">\n",
              "  <thead>\n",
              "    <tr style=\"text-align: right;\">\n",
              "      <th></th>\n",
              "      <th>Sale_ID</th>\n",
              "    </tr>\n",
              "  </thead>\n",
              "  <tbody>\n",
              "    <tr>\n",
              "      <th>0</th>\n",
              "      <td>S001</td>\n",
              "    </tr>\n",
              "    <tr>\n",
              "      <th>1</th>\n",
              "      <td>S002</td>\n",
              "    </tr>\n",
              "    <tr>\n",
              "      <th>2</th>\n",
              "      <td>S003</td>\n",
              "    </tr>\n",
              "    <tr>\n",
              "      <th>3</th>\n",
              "      <td>S004</td>\n",
              "    </tr>\n",
              "    <tr>\n",
              "      <th>4</th>\n",
              "      <td>S005</td>\n",
              "    </tr>\n",
              "    <tr>\n",
              "      <th>5</th>\n",
              "      <td>Unknown</td>\n",
              "    </tr>\n",
              "  </tbody>\n",
              "</table>\n",
              "</div><br><label><b>dtype:</b> object</label>"
            ]
          },
          "metadata": {},
          "execution_count": 7
        }
      ]
    },
    {
      "cell_type": "code",
      "source": [],
      "metadata": {
        "id": "rukjM53nSd6t"
      },
      "execution_count": 7,
      "outputs": []
    },
    {
      "cell_type": "markdown",
      "source": [
        "\n",
        "#  2. Data Type Conversion\n",
        "# Convert the Price and Units_Sold columns to numeric types.\n",
        "# Convert the Sale_Date column into datetime format.\n",
        "# Convert City and Brand columns to string type.\n",
        "# Check the data types of all columns and convert if needed.\n",
        "# Extract the year from Sale_Date and create a new column."
      ],
      "metadata": {
        "id": "s-wMZlmCSqTT"
      }
    },
    {
      "cell_type": "code",
      "source": [
        "ev_sales.info()"
      ],
      "metadata": {
        "colab": {
          "base_uri": "https://localhost:8080/"
        },
        "id": "JBglyHdsSscH",
        "outputId": "df670caa-d1d4-4b97-d24c-0b7bd5de5dae"
      },
      "execution_count": 8,
      "outputs": [
        {
          "output_type": "stream",
          "name": "stdout",
          "text": [
            "<class 'pandas.core.frame.DataFrame'>\n",
            "RangeIndex: 6 entries, 0 to 5\n",
            "Data columns (total 7 columns):\n",
            " #   Column      Non-Null Count  Dtype  \n",
            "---  ------      --------------  -----  \n",
            " 0   Sale_ID     6 non-null      object \n",
            " 1   Model       6 non-null      object \n",
            " 2   Brand       6 non-null      object \n",
            " 3   Price       5 non-null      float64\n",
            " 4   Units_Sold  6 non-null      float64\n",
            " 5   Sale_Date   6 non-null      object \n",
            " 6   City        6 non-null      object \n",
            "dtypes: float64(2), object(5)\n",
            "memory usage: 468.0+ bytes\n"
          ]
        }
      ]
    },
    {
      "cell_type": "code",
      "source": [
        "# ev_sales['Price'].astype(int)\n",
        "# ev_sales.info()"
      ],
      "metadata": {
        "id": "-pSwYwJ3S7QR"
      },
      "execution_count": 9,
      "outputs": []
    },
    {
      "cell_type": "code",
      "source": [],
      "metadata": {
        "id": "NXPMP87aadFE"
      },
      "execution_count": 9,
      "outputs": []
    },
    {
      "cell_type": "code",
      "source": [
        "ev_sales['Units_Sold'].astype(int)\n",
        "ev_sales.info()"
      ],
      "metadata": {
        "colab": {
          "base_uri": "https://localhost:8080/"
        },
        "id": "vkPt8U6UTCDz",
        "outputId": "ea2facd7-cf53-4f03-93bf-c703c2bc704f"
      },
      "execution_count": 10,
      "outputs": [
        {
          "output_type": "stream",
          "name": "stdout",
          "text": [
            "<class 'pandas.core.frame.DataFrame'>\n",
            "RangeIndex: 6 entries, 0 to 5\n",
            "Data columns (total 7 columns):\n",
            " #   Column      Non-Null Count  Dtype  \n",
            "---  ------      --------------  -----  \n",
            " 0   Sale_ID     6 non-null      object \n",
            " 1   Model       6 non-null      object \n",
            " 2   Brand       6 non-null      object \n",
            " 3   Price       5 non-null      float64\n",
            " 4   Units_Sold  6 non-null      float64\n",
            " 5   Sale_Date   6 non-null      object \n",
            " 6   City        6 non-null      object \n",
            "dtypes: float64(2), object(5)\n",
            "memory usage: 468.0+ bytes\n"
          ]
        }
      ]
    },
    {
      "cell_type": "code",
      "source": [
        "# 3.  Renaming, Sorting, and Filtering\n",
        "# Rename Sale_ID to Transaction_ID.\n",
        "# Sort the dataset by Units_Sold in descending order.\n",
        "# Filter and show only rows where Brand is 'Tata'.\n",
        "# Filter all sales where the Price is above ₹30,00,000.\n",
        "# Rename columns to follow snake_case format (e.g., Sale_Date → sale_date).\n",
        "# 4.  apply(), map(), lambda\n",
        "# Fill missing Price or Units_Sold with appropriate defaults.\n",
        "# Create a new column Revenue = Price * Units_Sold.\n",
        "# Flag cars priced over ₹30 lakhs as 'Premium', else 'Standard'.\n",
        "# Capitalize all brand names using map().\n",
        "# Count the number of characters in each Model name.\n"
      ],
      "metadata": {
        "id": "OhfRNemMafHe"
      },
      "execution_count": 11,
      "outputs": []
    },
    {
      "cell_type": "code",
      "source": [
        "ev_sales.rename(columns={'Sale_ID':'Transaction_ID'},inplace=True)\n",
        "ev_sales"
      ],
      "metadata": {
        "colab": {
          "base_uri": "https://localhost:8080/",
          "height": 238
        },
        "id": "VQi5QNxhajs0",
        "outputId": "d3057fcc-f792-499e-85b2-9aa25f4eca15"
      },
      "execution_count": 12,
      "outputs": [
        {
          "output_type": "execute_result",
          "data": {
            "text/plain": [
              "  Transaction_ID     Model     Brand      Price  Units_Sold   Sale_Date  \\\n",
              "0           S001      Leaf    Nissan  2800000.0         3.0  2024-04-01   \n",
              "1           S002   Model 3     Tesla  4500000.0         2.0  2024-04-01   \n",
              "2           S003      Kona   Hyundai  3200000.0         1.0  2024/04/02   \n",
              "3           S004  e-Verito  Mahindra        NaN         2.0  2024-04-03   \n",
              "4           S005  Nexon EV      Tata  1500000.0         2.0  2024-04-04   \n",
              "5        Unknown     ZS EV        MG  2500000.0         1.0  2024-04-04   \n",
              "\n",
              "        City  \n",
              "0  Bangalore  \n",
              "1     Mumbai  \n",
              "2  Bangalore  \n",
              "3  Hyderabad  \n",
              "4  Hyderabad  \n",
              "5       Pune  "
            ],
            "text/html": [
              "\n",
              "  <div id=\"df-9cc7fafb-c096-4a6d-8273-776ed77f035a\" class=\"colab-df-container\">\n",
              "    <div>\n",
              "<style scoped>\n",
              "    .dataframe tbody tr th:only-of-type {\n",
              "        vertical-align: middle;\n",
              "    }\n",
              "\n",
              "    .dataframe tbody tr th {\n",
              "        vertical-align: top;\n",
              "    }\n",
              "\n",
              "    .dataframe thead th {\n",
              "        text-align: right;\n",
              "    }\n",
              "</style>\n",
              "<table border=\"1\" class=\"dataframe\">\n",
              "  <thead>\n",
              "    <tr style=\"text-align: right;\">\n",
              "      <th></th>\n",
              "      <th>Transaction_ID</th>\n",
              "      <th>Model</th>\n",
              "      <th>Brand</th>\n",
              "      <th>Price</th>\n",
              "      <th>Units_Sold</th>\n",
              "      <th>Sale_Date</th>\n",
              "      <th>City</th>\n",
              "    </tr>\n",
              "  </thead>\n",
              "  <tbody>\n",
              "    <tr>\n",
              "      <th>0</th>\n",
              "      <td>S001</td>\n",
              "      <td>Leaf</td>\n",
              "      <td>Nissan</td>\n",
              "      <td>2800000.0</td>\n",
              "      <td>3.0</td>\n",
              "      <td>2024-04-01</td>\n",
              "      <td>Bangalore</td>\n",
              "    </tr>\n",
              "    <tr>\n",
              "      <th>1</th>\n",
              "      <td>S002</td>\n",
              "      <td>Model 3</td>\n",
              "      <td>Tesla</td>\n",
              "      <td>4500000.0</td>\n",
              "      <td>2.0</td>\n",
              "      <td>2024-04-01</td>\n",
              "      <td>Mumbai</td>\n",
              "    </tr>\n",
              "    <tr>\n",
              "      <th>2</th>\n",
              "      <td>S003</td>\n",
              "      <td>Kona</td>\n",
              "      <td>Hyundai</td>\n",
              "      <td>3200000.0</td>\n",
              "      <td>1.0</td>\n",
              "      <td>2024/04/02</td>\n",
              "      <td>Bangalore</td>\n",
              "    </tr>\n",
              "    <tr>\n",
              "      <th>3</th>\n",
              "      <td>S004</td>\n",
              "      <td>e-Verito</td>\n",
              "      <td>Mahindra</td>\n",
              "      <td>NaN</td>\n",
              "      <td>2.0</td>\n",
              "      <td>2024-04-03</td>\n",
              "      <td>Hyderabad</td>\n",
              "    </tr>\n",
              "    <tr>\n",
              "      <th>4</th>\n",
              "      <td>S005</td>\n",
              "      <td>Nexon EV</td>\n",
              "      <td>Tata</td>\n",
              "      <td>1500000.0</td>\n",
              "      <td>2.0</td>\n",
              "      <td>2024-04-04</td>\n",
              "      <td>Hyderabad</td>\n",
              "    </tr>\n",
              "    <tr>\n",
              "      <th>5</th>\n",
              "      <td>Unknown</td>\n",
              "      <td>ZS EV</td>\n",
              "      <td>MG</td>\n",
              "      <td>2500000.0</td>\n",
              "      <td>1.0</td>\n",
              "      <td>2024-04-04</td>\n",
              "      <td>Pune</td>\n",
              "    </tr>\n",
              "  </tbody>\n",
              "</table>\n",
              "</div>\n",
              "    <div class=\"colab-df-buttons\">\n",
              "\n",
              "  <div class=\"colab-df-container\">\n",
              "    <button class=\"colab-df-convert\" onclick=\"convertToInteractive('df-9cc7fafb-c096-4a6d-8273-776ed77f035a')\"\n",
              "            title=\"Convert this dataframe to an interactive table.\"\n",
              "            style=\"display:none;\">\n",
              "\n",
              "  <svg xmlns=\"http://www.w3.org/2000/svg\" height=\"24px\" viewBox=\"0 -960 960 960\">\n",
              "    <path d=\"M120-120v-720h720v720H120Zm60-500h600v-160H180v160Zm220 220h160v-160H400v160Zm0 220h160v-160H400v160ZM180-400h160v-160H180v160Zm440 0h160v-160H620v160ZM180-180h160v-160H180v160Zm440 0h160v-160H620v160Z\"/>\n",
              "  </svg>\n",
              "    </button>\n",
              "\n",
              "  <style>\n",
              "    .colab-df-container {\n",
              "      display:flex;\n",
              "      gap: 12px;\n",
              "    }\n",
              "\n",
              "    .colab-df-convert {\n",
              "      background-color: #E8F0FE;\n",
              "      border: none;\n",
              "      border-radius: 50%;\n",
              "      cursor: pointer;\n",
              "      display: none;\n",
              "      fill: #1967D2;\n",
              "      height: 32px;\n",
              "      padding: 0 0 0 0;\n",
              "      width: 32px;\n",
              "    }\n",
              "\n",
              "    .colab-df-convert:hover {\n",
              "      background-color: #E2EBFA;\n",
              "      box-shadow: 0px 1px 2px rgba(60, 64, 67, 0.3), 0px 1px 3px 1px rgba(60, 64, 67, 0.15);\n",
              "      fill: #174EA6;\n",
              "    }\n",
              "\n",
              "    .colab-df-buttons div {\n",
              "      margin-bottom: 4px;\n",
              "    }\n",
              "\n",
              "    [theme=dark] .colab-df-convert {\n",
              "      background-color: #3B4455;\n",
              "      fill: #D2E3FC;\n",
              "    }\n",
              "\n",
              "    [theme=dark] .colab-df-convert:hover {\n",
              "      background-color: #434B5C;\n",
              "      box-shadow: 0px 1px 3px 1px rgba(0, 0, 0, 0.15);\n",
              "      filter: drop-shadow(0px 1px 2px rgba(0, 0, 0, 0.3));\n",
              "      fill: #FFFFFF;\n",
              "    }\n",
              "  </style>\n",
              "\n",
              "    <script>\n",
              "      const buttonEl =\n",
              "        document.querySelector('#df-9cc7fafb-c096-4a6d-8273-776ed77f035a button.colab-df-convert');\n",
              "      buttonEl.style.display =\n",
              "        google.colab.kernel.accessAllowed ? 'block' : 'none';\n",
              "\n",
              "      async function convertToInteractive(key) {\n",
              "        const element = document.querySelector('#df-9cc7fafb-c096-4a6d-8273-776ed77f035a');\n",
              "        const dataTable =\n",
              "          await google.colab.kernel.invokeFunction('convertToInteractive',\n",
              "                                                    [key], {});\n",
              "        if (!dataTable) return;\n",
              "\n",
              "        const docLinkHtml = 'Like what you see? Visit the ' +\n",
              "          '<a target=\"_blank\" href=https://colab.research.google.com/notebooks/data_table.ipynb>data table notebook</a>'\n",
              "          + ' to learn more about interactive tables.';\n",
              "        element.innerHTML = '';\n",
              "        dataTable['output_type'] = 'display_data';\n",
              "        await google.colab.output.renderOutput(dataTable, element);\n",
              "        const docLink = document.createElement('div');\n",
              "        docLink.innerHTML = docLinkHtml;\n",
              "        element.appendChild(docLink);\n",
              "      }\n",
              "    </script>\n",
              "  </div>\n",
              "\n",
              "\n",
              "    <div id=\"df-e916c8c1-2c15-4516-b5e2-57a8de386326\">\n",
              "      <button class=\"colab-df-quickchart\" onclick=\"quickchart('df-e916c8c1-2c15-4516-b5e2-57a8de386326')\"\n",
              "                title=\"Suggest charts\"\n",
              "                style=\"display:none;\">\n",
              "\n",
              "<svg xmlns=\"http://www.w3.org/2000/svg\" height=\"24px\"viewBox=\"0 0 24 24\"\n",
              "     width=\"24px\">\n",
              "    <g>\n",
              "        <path d=\"M19 3H5c-1.1 0-2 .9-2 2v14c0 1.1.9 2 2 2h14c1.1 0 2-.9 2-2V5c0-1.1-.9-2-2-2zM9 17H7v-7h2v7zm4 0h-2V7h2v10zm4 0h-2v-4h2v4z\"/>\n",
              "    </g>\n",
              "</svg>\n",
              "      </button>\n",
              "\n",
              "<style>\n",
              "  .colab-df-quickchart {\n",
              "      --bg-color: #E8F0FE;\n",
              "      --fill-color: #1967D2;\n",
              "      --hover-bg-color: #E2EBFA;\n",
              "      --hover-fill-color: #174EA6;\n",
              "      --disabled-fill-color: #AAA;\n",
              "      --disabled-bg-color: #DDD;\n",
              "  }\n",
              "\n",
              "  [theme=dark] .colab-df-quickchart {\n",
              "      --bg-color: #3B4455;\n",
              "      --fill-color: #D2E3FC;\n",
              "      --hover-bg-color: #434B5C;\n",
              "      --hover-fill-color: #FFFFFF;\n",
              "      --disabled-bg-color: #3B4455;\n",
              "      --disabled-fill-color: #666;\n",
              "  }\n",
              "\n",
              "  .colab-df-quickchart {\n",
              "    background-color: var(--bg-color);\n",
              "    border: none;\n",
              "    border-radius: 50%;\n",
              "    cursor: pointer;\n",
              "    display: none;\n",
              "    fill: var(--fill-color);\n",
              "    height: 32px;\n",
              "    padding: 0;\n",
              "    width: 32px;\n",
              "  }\n",
              "\n",
              "  .colab-df-quickchart:hover {\n",
              "    background-color: var(--hover-bg-color);\n",
              "    box-shadow: 0 1px 2px rgba(60, 64, 67, 0.3), 0 1px 3px 1px rgba(60, 64, 67, 0.15);\n",
              "    fill: var(--button-hover-fill-color);\n",
              "  }\n",
              "\n",
              "  .colab-df-quickchart-complete:disabled,\n",
              "  .colab-df-quickchart-complete:disabled:hover {\n",
              "    background-color: var(--disabled-bg-color);\n",
              "    fill: var(--disabled-fill-color);\n",
              "    box-shadow: none;\n",
              "  }\n",
              "\n",
              "  .colab-df-spinner {\n",
              "    border: 2px solid var(--fill-color);\n",
              "    border-color: transparent;\n",
              "    border-bottom-color: var(--fill-color);\n",
              "    animation:\n",
              "      spin 1s steps(1) infinite;\n",
              "  }\n",
              "\n",
              "  @keyframes spin {\n",
              "    0% {\n",
              "      border-color: transparent;\n",
              "      border-bottom-color: var(--fill-color);\n",
              "      border-left-color: var(--fill-color);\n",
              "    }\n",
              "    20% {\n",
              "      border-color: transparent;\n",
              "      border-left-color: var(--fill-color);\n",
              "      border-top-color: var(--fill-color);\n",
              "    }\n",
              "    30% {\n",
              "      border-color: transparent;\n",
              "      border-left-color: var(--fill-color);\n",
              "      border-top-color: var(--fill-color);\n",
              "      border-right-color: var(--fill-color);\n",
              "    }\n",
              "    40% {\n",
              "      border-color: transparent;\n",
              "      border-right-color: var(--fill-color);\n",
              "      border-top-color: var(--fill-color);\n",
              "    }\n",
              "    60% {\n",
              "      border-color: transparent;\n",
              "      border-right-color: var(--fill-color);\n",
              "    }\n",
              "    80% {\n",
              "      border-color: transparent;\n",
              "      border-right-color: var(--fill-color);\n",
              "      border-bottom-color: var(--fill-color);\n",
              "    }\n",
              "    90% {\n",
              "      border-color: transparent;\n",
              "      border-bottom-color: var(--fill-color);\n",
              "    }\n",
              "  }\n",
              "</style>\n",
              "\n",
              "      <script>\n",
              "        async function quickchart(key) {\n",
              "          const quickchartButtonEl =\n",
              "            document.querySelector('#' + key + ' button');\n",
              "          quickchartButtonEl.disabled = true;  // To prevent multiple clicks.\n",
              "          quickchartButtonEl.classList.add('colab-df-spinner');\n",
              "          try {\n",
              "            const charts = await google.colab.kernel.invokeFunction(\n",
              "                'suggestCharts', [key], {});\n",
              "          } catch (error) {\n",
              "            console.error('Error during call to suggestCharts:', error);\n",
              "          }\n",
              "          quickchartButtonEl.classList.remove('colab-df-spinner');\n",
              "          quickchartButtonEl.classList.add('colab-df-quickchart-complete');\n",
              "        }\n",
              "        (() => {\n",
              "          let quickchartButtonEl =\n",
              "            document.querySelector('#df-e916c8c1-2c15-4516-b5e2-57a8de386326 button');\n",
              "          quickchartButtonEl.style.display =\n",
              "            google.colab.kernel.accessAllowed ? 'block' : 'none';\n",
              "        })();\n",
              "      </script>\n",
              "    </div>\n",
              "\n",
              "  <div id=\"id_685eccf2-4ab9-41d1-8e11-86272a270fcc\">\n",
              "    <style>\n",
              "      .colab-df-generate {\n",
              "        background-color: #E8F0FE;\n",
              "        border: none;\n",
              "        border-radius: 50%;\n",
              "        cursor: pointer;\n",
              "        display: none;\n",
              "        fill: #1967D2;\n",
              "        height: 32px;\n",
              "        padding: 0 0 0 0;\n",
              "        width: 32px;\n",
              "      }\n",
              "\n",
              "      .colab-df-generate:hover {\n",
              "        background-color: #E2EBFA;\n",
              "        box-shadow: 0px 1px 2px rgba(60, 64, 67, 0.3), 0px 1px 3px 1px rgba(60, 64, 67, 0.15);\n",
              "        fill: #174EA6;\n",
              "      }\n",
              "\n",
              "      [theme=dark] .colab-df-generate {\n",
              "        background-color: #3B4455;\n",
              "        fill: #D2E3FC;\n",
              "      }\n",
              "\n",
              "      [theme=dark] .colab-df-generate:hover {\n",
              "        background-color: #434B5C;\n",
              "        box-shadow: 0px 1px 3px 1px rgba(0, 0, 0, 0.15);\n",
              "        filter: drop-shadow(0px 1px 2px rgba(0, 0, 0, 0.3));\n",
              "        fill: #FFFFFF;\n",
              "      }\n",
              "    </style>\n",
              "    <button class=\"colab-df-generate\" onclick=\"generateWithVariable('ev_sales')\"\n",
              "            title=\"Generate code using this dataframe.\"\n",
              "            style=\"display:none;\">\n",
              "\n",
              "  <svg xmlns=\"http://www.w3.org/2000/svg\" height=\"24px\"viewBox=\"0 0 24 24\"\n",
              "       width=\"24px\">\n",
              "    <path d=\"M7,19H8.4L18.45,9,17,7.55,7,17.6ZM5,21V16.75L18.45,3.32a2,2,0,0,1,2.83,0l1.4,1.43a1.91,1.91,0,0,1,.58,1.4,1.91,1.91,0,0,1-.58,1.4L9.25,21ZM18.45,9,17,7.55Zm-12,3A5.31,5.31,0,0,0,4.9,8.1,5.31,5.31,0,0,0,1,6.5,5.31,5.31,0,0,0,4.9,4.9,5.31,5.31,0,0,0,6.5,1,5.31,5.31,0,0,0,8.1,4.9,5.31,5.31,0,0,0,12,6.5,5.46,5.46,0,0,0,6.5,12Z\"/>\n",
              "  </svg>\n",
              "    </button>\n",
              "    <script>\n",
              "      (() => {\n",
              "      const buttonEl =\n",
              "        document.querySelector('#id_685eccf2-4ab9-41d1-8e11-86272a270fcc button.colab-df-generate');\n",
              "      buttonEl.style.display =\n",
              "        google.colab.kernel.accessAllowed ? 'block' : 'none';\n",
              "\n",
              "      buttonEl.onclick = () => {\n",
              "        google.colab.notebook.generateWithVariable('ev_sales');\n",
              "      }\n",
              "      })();\n",
              "    </script>\n",
              "  </div>\n",
              "\n",
              "    </div>\n",
              "  </div>\n"
            ],
            "application/vnd.google.colaboratory.intrinsic+json": {
              "type": "dataframe",
              "variable_name": "ev_sales",
              "summary": "{\n  \"name\": \"ev_sales\",\n  \"rows\": 6,\n  \"fields\": [\n    {\n      \"column\": \"Transaction_ID\",\n      \"properties\": {\n        \"dtype\": \"string\",\n        \"num_unique_values\": 6,\n        \"samples\": [\n          \"S001\",\n          \"S002\",\n          \"Unknown\"\n        ],\n        \"semantic_type\": \"\",\n        \"description\": \"\"\n      }\n    },\n    {\n      \"column\": \"Model\",\n      \"properties\": {\n        \"dtype\": \"string\",\n        \"num_unique_values\": 6,\n        \"samples\": [\n          \"Leaf\",\n          \"Model 3\",\n          \"ZS EV\"\n        ],\n        \"semantic_type\": \"\",\n        \"description\": \"\"\n      }\n    },\n    {\n      \"column\": \"Brand\",\n      \"properties\": {\n        \"dtype\": \"string\",\n        \"num_unique_values\": 6,\n        \"samples\": [\n          \"Nissan\",\n          \"Tesla\",\n          \"MG\"\n        ],\n        \"semantic_type\": \"\",\n        \"description\": \"\"\n      }\n    },\n    {\n      \"column\": \"Price\",\n      \"properties\": {\n        \"dtype\": \"number\",\n        \"std\": 1093160.5554537724,\n        \"min\": 1500000.0,\n        \"max\": 4500000.0,\n        \"num_unique_values\": 5,\n        \"samples\": [\n          4500000.0,\n          2500000.0,\n          3200000.0\n        ],\n        \"semantic_type\": \"\",\n        \"description\": \"\"\n      }\n    },\n    {\n      \"column\": \"Units_Sold\",\n      \"properties\": {\n        \"dtype\": \"number\",\n        \"std\": 0.752772652709081,\n        \"min\": 1.0,\n        \"max\": 3.0,\n        \"num_unique_values\": 3,\n        \"samples\": [\n          3.0,\n          2.0,\n          1.0\n        ],\n        \"semantic_type\": \"\",\n        \"description\": \"\"\n      }\n    },\n    {\n      \"column\": \"Sale_Date\",\n      \"properties\": {\n        \"dtype\": \"string\",\n        \"num_unique_values\": 4,\n        \"samples\": [\n          \"2024/04/02\",\n          \"2024-04-04\",\n          \"2024-04-01\"\n        ],\n        \"semantic_type\": \"\",\n        \"description\": \"\"\n      }\n    },\n    {\n      \"column\": \"City\",\n      \"properties\": {\n        \"dtype\": \"string\",\n        \"num_unique_values\": 4,\n        \"samples\": [\n          \"Mumbai\",\n          \"Pune\",\n          \"Bangalore\"\n        ],\n        \"semantic_type\": \"\",\n        \"description\": \"\"\n      }\n    }\n  ]\n}"
            }
          },
          "metadata": {},
          "execution_count": 12
        }
      ]
    },
    {
      "cell_type": "code",
      "source": [
        "ev_sales_sorted = ev_sales.sort_values(by='Units_Sold', ascending=False)\n",
        "print(ev_sales_sorted['Units_Sold'])"
      ],
      "metadata": {
        "colab": {
          "base_uri": "https://localhost:8080/"
        },
        "id": "laMoCh_Pasht",
        "outputId": "71f5c8c8-3efd-46bd-ae91-7708dc5282ad"
      },
      "execution_count": 13,
      "outputs": [
        {
          "output_type": "stream",
          "name": "stdout",
          "text": [
            "0    3.0\n",
            "1    2.0\n",
            "3    2.0\n",
            "4    2.0\n",
            "2    1.0\n",
            "5    1.0\n",
            "Name: Units_Sold, dtype: float64\n"
          ]
        }
      ]
    },
    {
      "cell_type": "code",
      "source": [
        "# Filter and show only rows where Brand is 'Tata'.\n",
        "filter_data=ev_sales['Brand'].apply(lambda x:x=='Tata')\n",
        "filter_data"
      ],
      "metadata": {
        "colab": {
          "base_uri": "https://localhost:8080/",
          "height": 272
        },
        "id": "TAJq2r-kbeCV",
        "outputId": "fcbd8737-81be-427e-d041-74eed842e63a"
      },
      "execution_count": 14,
      "outputs": [
        {
          "output_type": "execute_result",
          "data": {
            "text/plain": [
              "0    False\n",
              "1    False\n",
              "2    False\n",
              "3    False\n",
              "4     True\n",
              "5    False\n",
              "Name: Brand, dtype: bool"
            ],
            "text/html": [
              "<div>\n",
              "<style scoped>\n",
              "    .dataframe tbody tr th:only-of-type {\n",
              "        vertical-align: middle;\n",
              "    }\n",
              "\n",
              "    .dataframe tbody tr th {\n",
              "        vertical-align: top;\n",
              "    }\n",
              "\n",
              "    .dataframe thead th {\n",
              "        text-align: right;\n",
              "    }\n",
              "</style>\n",
              "<table border=\"1\" class=\"dataframe\">\n",
              "  <thead>\n",
              "    <tr style=\"text-align: right;\">\n",
              "      <th></th>\n",
              "      <th>Brand</th>\n",
              "    </tr>\n",
              "  </thead>\n",
              "  <tbody>\n",
              "    <tr>\n",
              "      <th>0</th>\n",
              "      <td>False</td>\n",
              "    </tr>\n",
              "    <tr>\n",
              "      <th>1</th>\n",
              "      <td>False</td>\n",
              "    </tr>\n",
              "    <tr>\n",
              "      <th>2</th>\n",
              "      <td>False</td>\n",
              "    </tr>\n",
              "    <tr>\n",
              "      <th>3</th>\n",
              "      <td>False</td>\n",
              "    </tr>\n",
              "    <tr>\n",
              "      <th>4</th>\n",
              "      <td>True</td>\n",
              "    </tr>\n",
              "    <tr>\n",
              "      <th>5</th>\n",
              "      <td>False</td>\n",
              "    </tr>\n",
              "  </tbody>\n",
              "</table>\n",
              "</div><br><label><b>dtype:</b> bool</label>"
            ]
          },
          "metadata": {},
          "execution_count": 14
        }
      ]
    },
    {
      "cell_type": "code",
      "source": [
        "# Filter all sales where the Price is above ₹30,00,000.\n",
        "filter_data=ev_sales['Price'].apply(lambda x:x>30000000)\n",
        "filter_data"
      ],
      "metadata": {
        "colab": {
          "base_uri": "https://localhost:8080/",
          "height": 272
        },
        "id": "jhkfuZ5xcIBY",
        "outputId": "69e1af44-95c0-458f-88f3-ebb2a44aca0f"
      },
      "execution_count": 15,
      "outputs": [
        {
          "output_type": "execute_result",
          "data": {
            "text/plain": [
              "0    False\n",
              "1    False\n",
              "2    False\n",
              "3    False\n",
              "4    False\n",
              "5    False\n",
              "Name: Price, dtype: bool"
            ],
            "text/html": [
              "<div>\n",
              "<style scoped>\n",
              "    .dataframe tbody tr th:only-of-type {\n",
              "        vertical-align: middle;\n",
              "    }\n",
              "\n",
              "    .dataframe tbody tr th {\n",
              "        vertical-align: top;\n",
              "    }\n",
              "\n",
              "    .dataframe thead th {\n",
              "        text-align: right;\n",
              "    }\n",
              "</style>\n",
              "<table border=\"1\" class=\"dataframe\">\n",
              "  <thead>\n",
              "    <tr style=\"text-align: right;\">\n",
              "      <th></th>\n",
              "      <th>Price</th>\n",
              "    </tr>\n",
              "  </thead>\n",
              "  <tbody>\n",
              "    <tr>\n",
              "      <th>0</th>\n",
              "      <td>False</td>\n",
              "    </tr>\n",
              "    <tr>\n",
              "      <th>1</th>\n",
              "      <td>False</td>\n",
              "    </tr>\n",
              "    <tr>\n",
              "      <th>2</th>\n",
              "      <td>False</td>\n",
              "    </tr>\n",
              "    <tr>\n",
              "      <th>3</th>\n",
              "      <td>False</td>\n",
              "    </tr>\n",
              "    <tr>\n",
              "      <th>4</th>\n",
              "      <td>False</td>\n",
              "    </tr>\n",
              "    <tr>\n",
              "      <th>5</th>\n",
              "      <td>False</td>\n",
              "    </tr>\n",
              "  </tbody>\n",
              "</table>\n",
              "</div><br><label><b>dtype:</b> bool</label>"
            ]
          },
          "metadata": {},
          "execution_count": 15
        }
      ]
    },
    {
      "cell_type": "code",
      "source": [
        "# Rename columns to follow snake_case format\n",
        "ev_sales.columns = ev_sales.columns.str.strip().str.lower().str.replace(' ', '_').str.replace(r'[^\\w]', '', regex=True)\n",
        "ev_sales.columns"
      ],
      "metadata": {
        "colab": {
          "base_uri": "https://localhost:8080/"
        },
        "id": "S04ZtNpMbUVD",
        "outputId": "a4170740-cde7-47ea-938a-be1cc7b99054"
      },
      "execution_count": 16,
      "outputs": [
        {
          "output_type": "execute_result",
          "data": {
            "text/plain": [
              "Index(['transaction_id', 'model', 'brand', 'price', 'units_sold', 'sale_date',\n",
              "       'city'],\n",
              "      dtype='object')"
            ]
          },
          "metadata": {},
          "execution_count": 16
        }
      ]
    },
    {
      "cell_type": "code",
      "source": [
        "#  Create a new column Revenue = Price * Units_Sold.\n",
        "ev_sales['Revenue']=ev_sales['price']*ev_sales['units_sold']\n",
        "ev_sales['Revenue']"
      ],
      "metadata": {
        "colab": {
          "base_uri": "https://localhost:8080/",
          "height": 272
        },
        "id": "JmoL68tudN8z",
        "outputId": "96bacb0b-449a-49e5-dc17-586157267bc9"
      },
      "execution_count": 17,
      "outputs": [
        {
          "output_type": "execute_result",
          "data": {
            "text/plain": [
              "0    8400000.0\n",
              "1    9000000.0\n",
              "2    3200000.0\n",
              "3          NaN\n",
              "4    3000000.0\n",
              "5    2500000.0\n",
              "Name: Revenue, dtype: float64"
            ],
            "text/html": [
              "<div>\n",
              "<style scoped>\n",
              "    .dataframe tbody tr th:only-of-type {\n",
              "        vertical-align: middle;\n",
              "    }\n",
              "\n",
              "    .dataframe tbody tr th {\n",
              "        vertical-align: top;\n",
              "    }\n",
              "\n",
              "    .dataframe thead th {\n",
              "        text-align: right;\n",
              "    }\n",
              "</style>\n",
              "<table border=\"1\" class=\"dataframe\">\n",
              "  <thead>\n",
              "    <tr style=\"text-align: right;\">\n",
              "      <th></th>\n",
              "      <th>Revenue</th>\n",
              "    </tr>\n",
              "  </thead>\n",
              "  <tbody>\n",
              "    <tr>\n",
              "      <th>0</th>\n",
              "      <td>8400000.0</td>\n",
              "    </tr>\n",
              "    <tr>\n",
              "      <th>1</th>\n",
              "      <td>9000000.0</td>\n",
              "    </tr>\n",
              "    <tr>\n",
              "      <th>2</th>\n",
              "      <td>3200000.0</td>\n",
              "    </tr>\n",
              "    <tr>\n",
              "      <th>3</th>\n",
              "      <td>NaN</td>\n",
              "    </tr>\n",
              "    <tr>\n",
              "      <th>4</th>\n",
              "      <td>3000000.0</td>\n",
              "    </tr>\n",
              "    <tr>\n",
              "      <th>5</th>\n",
              "      <td>2500000.0</td>\n",
              "    </tr>\n",
              "  </tbody>\n",
              "</table>\n",
              "</div><br><label><b>dtype:</b> float64</label>"
            ]
          },
          "metadata": {},
          "execution_count": 17
        }
      ]
    },
    {
      "cell_type": "code",
      "source": [
        "# Flag cars priced over ₹30 lakhs as 'Premium', else 'Standard'.\n",
        "# Capitalize all brand names using map().\n",
        "# Count the number of characters in each Model name.\n",
        "ev_sales['count']=ev_sales['model'].apply(lambda x:len(x))\n",
        "ev_sales['count']\n",
        "ev_sales['brand']=ev_sales['brand'].map(lambda x:x.capitalize())\n",
        "ev_sales['brand']"
      ],
      "metadata": {
        "colab": {
          "base_uri": "https://localhost:8080/",
          "height": 272
        },
        "id": "31HcPgUCdLCV",
        "outputId": "2039ac49-0d85-43a8-8171-f6ee7da3c578"
      },
      "execution_count": 18,
      "outputs": [
        {
          "output_type": "execute_result",
          "data": {
            "text/plain": [
              "0      Nissan\n",
              "1       Tesla\n",
              "2     Hyundai\n",
              "3    Mahindra\n",
              "4        Tata\n",
              "5          Mg\n",
              "Name: brand, dtype: object"
            ],
            "text/html": [
              "<div>\n",
              "<style scoped>\n",
              "    .dataframe tbody tr th:only-of-type {\n",
              "        vertical-align: middle;\n",
              "    }\n",
              "\n",
              "    .dataframe tbody tr th {\n",
              "        vertical-align: top;\n",
              "    }\n",
              "\n",
              "    .dataframe thead th {\n",
              "        text-align: right;\n",
              "    }\n",
              "</style>\n",
              "<table border=\"1\" class=\"dataframe\">\n",
              "  <thead>\n",
              "    <tr style=\"text-align: right;\">\n",
              "      <th></th>\n",
              "      <th>brand</th>\n",
              "    </tr>\n",
              "  </thead>\n",
              "  <tbody>\n",
              "    <tr>\n",
              "      <th>0</th>\n",
              "      <td>Nissan</td>\n",
              "    </tr>\n",
              "    <tr>\n",
              "      <th>1</th>\n",
              "      <td>Tesla</td>\n",
              "    </tr>\n",
              "    <tr>\n",
              "      <th>2</th>\n",
              "      <td>Hyundai</td>\n",
              "    </tr>\n",
              "    <tr>\n",
              "      <th>3</th>\n",
              "      <td>Mahindra</td>\n",
              "    </tr>\n",
              "    <tr>\n",
              "      <th>4</th>\n",
              "      <td>Tata</td>\n",
              "    </tr>\n",
              "    <tr>\n",
              "      <th>5</th>\n",
              "      <td>Mg</td>\n",
              "    </tr>\n",
              "  </tbody>\n",
              "</table>\n",
              "</div><br><label><b>dtype:</b> object</label>"
            ]
          },
          "metadata": {},
          "execution_count": 18
        }
      ]
    },
    {
      "cell_type": "code",
      "source": [
        "# Working with Dates and Times\n",
        "# Convert Sale_Date column to datetime.\n",
        "# Extract day, weekday, and week number from the date.\n",
        "# Count how many EVs were sold on a Sunday.\n",
        "# Filter sales from the first week of April 2024.\n",
        "# Create a column showing the month name of each sale.\n"
      ],
      "metadata": {
        "id": "OfxJcz5feeWx"
      },
      "execution_count": 19,
      "outputs": []
    },
    {
      "cell_type": "code",
      "source": [
        "ev_sales['sale_date']=pd.to_datetime(ev_sales['sale_date'],errors='coerce')\n",
        "ev_sales.info()"
      ],
      "metadata": {
        "id": "ObOhVuL3d1ez",
        "outputId": "fb3ecf67-f9c7-4f5b-9280-34ab4b11b366",
        "colab": {
          "base_uri": "https://localhost:8080/"
        }
      },
      "execution_count": 20,
      "outputs": [
        {
          "output_type": "stream",
          "name": "stdout",
          "text": [
            "<class 'pandas.core.frame.DataFrame'>\n",
            "RangeIndex: 6 entries, 0 to 5\n",
            "Data columns (total 9 columns):\n",
            " #   Column          Non-Null Count  Dtype         \n",
            "---  ------          --------------  -----         \n",
            " 0   transaction_id  6 non-null      object        \n",
            " 1   model           6 non-null      object        \n",
            " 2   brand           6 non-null      object        \n",
            " 3   price           5 non-null      float64       \n",
            " 4   units_sold      6 non-null      float64       \n",
            " 5   sale_date       5 non-null      datetime64[ns]\n",
            " 6   city            6 non-null      object        \n",
            " 7   Revenue         5 non-null      float64       \n",
            " 8   count           6 non-null      int64         \n",
            "dtypes: datetime64[ns](1), float64(3), int64(1), object(4)\n",
            "memory usage: 564.0+ bytes\n"
          ]
        }
      ]
    },
    {
      "cell_type": "code",
      "source": [
        "!git push origin main"
      ],
      "metadata": {
        "id": "KldD8B4hpNDg",
        "outputId": "97da42b4-f28f-4a71-cb90-882d01e11cb7",
        "colab": {
          "base_uri": "https://localhost:8080/"
        }
      },
      "execution_count": 21,
      "outputs": [
        {
          "output_type": "stream",
          "name": "stdout",
          "text": [
            "fatal: not a git repository (or any of the parent directories): .git\n"
          ]
        }
      ]
    },
    {
      "cell_type": "markdown",
      "source": [
        "Group by Brand and calculate total units sold.\n",
        "\n",
        "Which City sold the highest total units?\n",
        "\n",
        "What is the average price of cars sold in each Region?\n",
        "\n",
        "Show total revenue (Price * Units_Sold) by City.\n",
        "\n",
        "Find out the most sold Model per Region."
      ],
      "metadata": {
        "id": "FmSs1qVFY4Um"
      }
    },
    {
      "cell_type": "code",
      "source": [
        "print(ev_sales.groupby('brand')['units_sold'].sum())"
      ],
      "metadata": {
        "id": "J9Oh2Aw9WSqs",
        "outputId": "06fd693b-ee89-46b6-8038-4f1c646ee9e6",
        "colab": {
          "base_uri": "https://localhost:8080/"
        }
      },
      "execution_count": 22,
      "outputs": [
        {
          "output_type": "stream",
          "name": "stdout",
          "text": [
            "brand\n",
            "Hyundai     1.0\n",
            "Mahindra    2.0\n",
            "Mg          1.0\n",
            "Nissan      3.0\n",
            "Tata        2.0\n",
            "Tesla       2.0\n",
            "Name: units_sold, dtype: float64\n"
          ]
        }
      ]
    },
    {
      "cell_type": "code",
      "source": [
        "print(ev_sales.groupby('city')['units_sold'].max().head(1))"
      ],
      "metadata": {
        "id": "swE0FRwaZ1FD",
        "outputId": "8b74d883-fdce-47ca-a10d-6a5d797d6860",
        "colab": {
          "base_uri": "https://localhost:8080/"
        }
      },
      "execution_count": 23,
      "outputs": [
        {
          "output_type": "stream",
          "name": "stdout",
          "text": [
            "city\n",
            "Bangalore    3.0\n",
            "Name: units_sold, dtype: float64\n"
          ]
        }
      ]
    },
    {
      "cell_type": "code",
      "source": [],
      "metadata": {
        "id": "gweH14wGfYB2"
      },
      "execution_count": 23,
      "outputs": []
    },
    {
      "cell_type": "markdown",
      "source": [
        "Create a pivot table showing total Units_Sold per City and Brand.\n",
        "\n",
        "Create a pivot showing average Price per Model and City.\n",
        "\n",
        "Use crosstab() to count models by Region.\n",
        "\n",
        "Create a pivot table of sales per Sale_Date and City.\n",
        "\n",
        "Add margins=True to show grand totals in the pivot table."
      ],
      "metadata": {
        "id": "TwL6cNIBfY3o"
      }
    },
    {
      "cell_type": "code",
      "source": [
        "print(ev_sales.pivot_table(values='price',index='model',columns='city',aggfunc='mean',margins=True))"
      ],
      "metadata": {
        "id": "y4W_1d32fhq6",
        "outputId": "4316a63a-2017-4589-cf85-0b29b14506bf",
        "colab": {
          "base_uri": "https://localhost:8080/"
        }
      },
      "execution_count": 24,
      "outputs": [
        {
          "output_type": "stream",
          "name": "stdout",
          "text": [
            "city      Bangalore  Hyderabad     Mumbai       Pune        All\n",
            "model                                                          \n",
            "Kona      3200000.0        NaN        NaN        NaN  3200000.0\n",
            "Leaf      2800000.0        NaN        NaN        NaN  2800000.0\n",
            "Model 3         NaN        NaN  4500000.0        NaN  4500000.0\n",
            "Nexon EV        NaN  1500000.0        NaN        NaN  1500000.0\n",
            "ZS EV           NaN        NaN        NaN  2500000.0  2500000.0\n",
            "All       3000000.0  1500000.0  4500000.0  2500000.0  2900000.0\n"
          ]
        }
      ]
    },
    {
      "cell_type": "code",
      "source": [
        "data = {\n",
        "    'Region': ['East', 'West', 'North', 'South', 'East', 'West', 'South', 'North'],\n",
        "    'Product': ['A', 'A', 'B', 'C', 'B', 'C', 'A', 'B'],\n",
        "    'SalesPerson': ['John', 'Alice', 'John', 'Bob', 'Alice', 'John', 'Bob', 'Alice']\n",
        "}"
      ],
      "metadata": {
        "id": "SOyd8GEQtTl9"
      },
      "execution_count": 25,
      "outputs": []
    },
    {
      "cell_type": "code",
      "source": [
        "print(pd.crosstab(data['SalesPerson'],data['Product'],margins=True))"
      ],
      "metadata": {
        "id": "6hpg2ZsDtVTa",
        "outputId": "304b60a0-629f-4565-f141-fb7006cb1927",
        "colab": {
          "base_uri": "https://localhost:8080/"
        }
      },
      "execution_count": 26,
      "outputs": [
        {
          "output_type": "stream",
          "name": "stdout",
          "text": [
            "col_0  A  B  C  All\n",
            "row_0              \n",
            "Alice  1  2  0    3\n",
            "Bob    1  0  1    2\n",
            "John   1  1  1    3\n",
            "All    3  3  2    8\n"
          ]
        }
      ]
    },
    {
      "cell_type": "code",
      "source": [],
      "metadata": {
        "id": "wIZUziqXqbsO"
      },
      "execution_count": 26,
      "outputs": []
    },
    {
      "cell_type": "markdown",
      "source": [
        "Plot the distribution of EV prices using a histogram or KDE.\n",
        "\n",
        "Find the most frequently sold EV model.\n",
        "\n",
        "Calculate and visualize the average number of units sold across all transactions.\n",
        "\n",
        "Display the count of sales in each city.\n",
        "\n",
        "Check if there are any outlier prices using a box plot."
      ],
      "metadata": {
        "id": "j60445vaqjsc"
      }
    },
    {
      "cell_type": "code",
      "source": [
        "import seaborn as sns\n",
        "sns.histplot(ev_sales['price'],kde=True)"
      ],
      "metadata": {
        "id": "Xpmv495TqldK",
        "outputId": "99385bc0-8d15-4d26-cb50-583976dbd40b",
        "colab": {
          "base_uri": "https://localhost:8080/",
          "height": 467
        }
      },
      "execution_count": 32,
      "outputs": [
        {
          "output_type": "execute_result",
          "data": {
            "text/plain": [
              "<Axes: xlabel='price', ylabel='Count'>"
            ]
          },
          "metadata": {},
          "execution_count": 32
        },
        {
          "output_type": "display_data",
          "data": {
            "text/plain": [
              "<Figure size 640x480 with 1 Axes>"
            ],
            "image/png": "[encoded data removed]"
          },
          "metadata": {}
        }
      ]
    },
    {
      "cell_type": "code",
      "source": [
        "sns.barplot(data=ev_sales,x='model',y='units_sold')"
      ],
      "metadata": {
        "id": "G6Dbij5sr4EX",
        "outputId": "e743984d-2134-4d1d-b1dd-607052b41249",
        "colab": {
          "base_uri": "https://localhost:8080/",
          "height": 467
        }
      },
      "execution_count": 35,
      "outputs": [
        {
          "output_type": "execute_result",
          "data": {
            "text/plain": [
              "<Axes: xlabel='model', ylabel='units_sold'>"
            ]
          },
          "metadata": {},
          "execution_count": 35
        },
        {
          "output_type": "display_data",
          "data": {
            "text/plain": [
              "<Figure size 640x480 with 1 Axes>"
            ],
            "image/png": "[encoded data removed]"
          },
          "metadata": {}
        }
      ]
    },
    {
      "cell_type": "code",
      "source": [
        "sns.boxplot(data=ev_sales,x='price')"
      ],
      "metadata": {
        "id": "DxOdDStXu-Ph",
        "outputId": "141042cb-d780-4a7a-ae45-59ca622c309f",
        "colab": {
          "base_uri": "https://localhost:8080/",
          "height": 467
        }
      },
      "execution_count": 33,
      "outputs": [
        {
          "output_type": "execute_result",
          "data": {
            "text/plain": [
              "<Axes: xlabel='price'>"
            ]
          },
          "metadata": {},
          "execution_count": 33
        },
        {
          "output_type": "display_data",
          "data": {
            "text/plain": [
              "<Figure size 640x480 with 1 Axes>"
            ],
            "image/png": "[encoded data removed]"
          },
          "metadata": {}
        }
      ]
    },
    {
      "cell_type": "code",
      "source": [
        "\n",
        "import pandas as pd\n",
        "\n",
        "url = 'https://raw.githubusercontent.com/harikareddie03/hackathon/refs/heads/main/fitness_members.csv'\n",
        "\n",
        "df = pd.read_csv(url)\n",
        "df.head()\n"
      ],
      "metadata": {
        "id": "nbGip3JntYao",
        "outputId": "684c48d2-d3dd-4f94-b202-b285a65e1fd3",
        "colab": {
          "base_uri": "https://localhost:8080/",
          "height": 206
        }
      },
      "execution_count": 38,
      "outputs": [
        {
          "output_type": "execute_result",
          "data": {
            "text/plain": [
              "   Member_ID   Name  Age  Gender Membership_Type  Join_Date Last_Visit   BMI  \\\n",
              "0       1008    Eva   49  Female         Monthly  4/16/2023  4/19/2023  27.3   \n",
              "1       1019  David   28  Female       Quarterly  9/28/2023   7/5/2023  45.0   \n",
              "2       1003  Frank   52  Female         Monthly  1/31/2023  3/15/2023  23.3   \n",
              "3       1004  David   26    Male         Monthly  2/15/2023  3/22/2023   NaN   \n",
              "4       1002    Bob   47    Male         Monthly  1/16/2023   3/8/2023  20.9   \n",
              "\n",
              "   Fees_Paid  \n",
              "0       1000  \n",
              "1       2500  \n",
              "2      10000  \n",
              "3      10000  \n",
              "4       2500  "
            ],
            "text/html": [
              "\n",
              "  <div id=\"df-cda2fe38-a4fc-468e-af65-c4b666e5cc16\" class=\"colab-df-container\">\n",
              "    <div>\n",
              "<style scoped>\n",
              "    .dataframe tbody tr th:only-of-type {\n",
              "        vertical-align: middle;\n",
              "    }\n",
              "\n",
              "    .dataframe tbody tr th {\n",
              "        vertical-align: top;\n",
              "    }\n",
              "\n",
              "    .dataframe thead th {\n",
              "        text-align: right;\n",
              "    }\n",
              "</style>\n",
              "<table border=\"1\" class=\"dataframe\">\n",
              "  <thead>\n",
              "    <tr style=\"text-align: right;\">\n",
              "      <th></th>\n",
              "      <th>Member_ID</th>\n",
              "      <th>Name</th>\n",
              "      <th>Age</th>\n",
              "      <th>Gender</th>\n",
              "      <th>Membership_Type</th>\n",
              "      <th>Join_Date</th>\n",
              "      <th>Last_Visit</th>\n",
              "      <th>BMI</th>\n",
              "      <th>Fees_Paid</th>\n",
              "    </tr>\n",
              "  </thead>\n",
              "  <tbody>\n",
              "    <tr>\n",
              "      <th>0</th>\n",
              "      <td>1008</td>\n",
              "      <td>Eva</td>\n",
              "      <td>49</td>\n",
              "      <td>Female</td>\n",
              "      <td>Monthly</td>\n",
              "      <td>4/16/2023</td>\n",
              "      <td>4/19/2023</td>\n",
              "      <td>27.3</td>\n",
              "      <td>1000</td>\n",
              "    </tr>\n",
              "    <tr>\n",
              "      <th>1</th>\n",
              "      <td>1019</td>\n",
              "      <td>David</td>\n",
              "      <td>28</td>\n",
              "      <td>Female</td>\n",
              "      <td>Quarterly</td>\n",
              "      <td>9/28/2023</td>\n",
              "      <td>7/5/2023</td>\n",
              "      <td>45.0</td>\n",
              "      <td>2500</td>\n",
              "    </tr>\n",
              "    <tr>\n",
              "      <th>2</th>\n",
              "      <td>1003</td>\n",
              "      <td>Frank</td>\n",
              "      <td>52</td>\n",
              "      <td>Female</td>\n",
              "      <td>Monthly</td>\n",
              "      <td>1/31/2023</td>\n",
              "      <td>3/15/2023</td>\n",
              "      <td>23.3</td>\n",
              "      <td>10000</td>\n",
              "    </tr>\n",
              "    <tr>\n",
              "      <th>3</th>\n",
              "      <td>1004</td>\n",
              "      <td>David</td>\n",
              "      <td>26</td>\n",
              "      <td>Male</td>\n",
              "      <td>Monthly</td>\n",
              "      <td>2/15/2023</td>\n",
              "      <td>3/22/2023</td>\n",
              "      <td>NaN</td>\n",
              "      <td>10000</td>\n",
              "    </tr>\n",
              "    <tr>\n",
              "      <th>4</th>\n",
              "      <td>1002</td>\n",
              "      <td>Bob</td>\n",
              "      <td>47</td>\n",
              "      <td>Male</td>\n",
              "      <td>Monthly</td>\n",
              "      <td>1/16/2023</td>\n",
              "      <td>3/8/2023</td>\n",
              "      <td>20.9</td>\n",
              "      <td>2500</td>\n",
              "    </tr>\n",
              "  </tbody>\n",
              "</table>\n",
              "</div>\n",
              "    <div class=\"colab-df-buttons\">\n",
              "\n",
              "  <div class=\"colab-df-container\">\n",
              "    <button class=\"colab-df-convert\" onclick=\"convertToInteractive('df-cda2fe38-a4fc-468e-af65-c4b666e5cc16')\"\n",
              "            title=\"Convert this dataframe to an interactive table.\"\n",
              "            style=\"display:none;\">\n",
              "\n",
              "  <svg xmlns=\"http://www.w3.org/2000/svg\" height=\"24px\" viewBox=\"0 -960 960 960\">\n",
              "    <path d=\"M120-120v-720h720v720H120Zm60-500h600v-160H180v160Zm220 220h160v-160H400v160Zm0 220h160v-160H400v160ZM180-400h160v-160H180v160Zm440 0h160v-160H620v160ZM180-180h160v-160H180v160Zm440 0h160v-160H620v160Z\"/>\n",
              "  </svg>\n",
              "    </button>\n",
              "\n",
              "  <style>\n",
              "    .colab-df-container {\n",
              "      display:flex;\n",
              "      gap: 12px;\n",
              "    }\n",
              "\n",
              "    .colab-df-convert {\n",
              "      background-color: #E8F0FE;\n",
              "      border: none;\n",
              "      border-radius: 50%;\n",
              "      cursor: pointer;\n",
              "      display: none;\n",
              "      fill: #1967D2;\n",
              "      height: 32px;\n",
              "      padding: 0 0 0 0;\n",
              "      width: 32px;\n",
              "    }\n",
              "\n",
              "    .colab-df-convert:hover {\n",
              "      background-color: #E2EBFA;\n",
              "      box-shadow: 0px 1px 2px rgba(60, 64, 67, 0.3), 0px 1px 3px 1px rgba(60, 64, 67, 0.15);\n",
              "      fill: #174EA6;\n",
              "    }\n",
              "\n",
              "    .colab-df-buttons div {\n",
              "      margin-bottom: 4px;\n",
              "    }\n",
              "\n",
              "    [theme=dark] .colab-df-convert {\n",
              "      background-color: #3B4455;\n",
              "      fill: #D2E3FC;\n",
              "    }\n",
              "\n",
              "    [theme=dark] .colab-df-convert:hover {\n",
              "      background-color: #434B5C;\n",
              "      box-shadow: 0px 1px 3px 1px rgba(0, 0, 0, 0.15);\n",
              "      filter: drop-shadow(0px 1px 2px rgba(0, 0, 0, 0.3));\n",
              "      fill: #FFFFFF;\n",
              "    }\n",
              "  </style>\n",
              "\n",
              "    <script>\n",
              "      const buttonEl =\n",
              "        document.querySelector('#df-cda2fe38-a4fc-468e-af65-c4b666e5cc16 button.colab-df-convert');\n",
              "      buttonEl.style.display =\n",
              "        google.colab.kernel.accessAllowed ? 'block' : 'none';\n",
              "\n",
              "      async function convertToInteractive(key) {\n",
              "        const element = document.querySelector('#df-cda2fe38-a4fc-468e-af65-c4b666e5cc16');\n",
              "        const dataTable =\n",
              "          await google.colab.kernel.invokeFunction('convertToInteractive',\n",
              "                                                    [key], {});\n",
              "        if (!dataTable) return;\n",
              "\n",
              "        const docLinkHtml = 'Like what you see? Visit the ' +\n",
              "          '<a target=\"_blank\" href=https://colab.research.google.com/notebooks/data_table.ipynb>data table notebook</a>'\n",
              "          + ' to learn more about interactive tables.';\n",
              "        element.innerHTML = '';\n",
              "        dataTable['output_type'] = 'display_data';\n",
              "        await google.colab.output.renderOutput(dataTable, element);\n",
              "        const docLink = document.createElement('div');\n",
              "        docLink.innerHTML = docLinkHtml;\n",
              "        element.appendChild(docLink);\n",
              "      }\n",
              "    </script>\n",
              "  </div>\n",
              "\n",
              "\n",
              "    <div id=\"df-5bd9119e-88bb-4a15-871b-a86d0677576a\">\n",
              "      <button class=\"colab-df-quickchart\" onclick=\"quickchart('df-5bd9119e-88bb-4a15-871b-a86d0677576a')\"\n",
              "                title=\"Suggest charts\"\n",
              "                style=\"display:none;\">\n",
              "\n",
              "<svg xmlns=\"http://www.w3.org/2000/svg\" height=\"24px\"viewBox=\"0 0 24 24\"\n",
              "     width=\"24px\">\n",
              "    <g>\n",
              "        <path d=\"M19 3H5c-1.1 0-2 .9-2 2v14c0 1.1.9 2 2 2h14c1.1 0 2-.9 2-2V5c0-1.1-.9-2-2-2zM9 17H7v-7h2v7zm4 0h-2V7h2v10zm4 0h-2v-4h2v4z\"/>\n",
              "    </g>\n",
              "</svg>\n",
              "      </button>\n",
              "\n",
              "<style>\n",
              "  .colab-df-quickchart {\n",
              "      --bg-color: #E8F0FE;\n",
              "      --fill-color: #1967D2;\n",
              "      --hover-bg-color: #E2EBFA;\n",
              "      --hover-fill-color: #174EA6;\n",
              "      --disabled-fill-color: #AAA;\n",
              "      --disabled-bg-color: #DDD;\n",
              "  }\n",
              "\n",
              "  [theme=dark] .colab-df-quickchart {\n",
              "      --bg-color: #3B4455;\n",
              "      --fill-color: #D2E3FC;\n",
              "      --hover-bg-color: #434B5C;\n",
              "      --hover-fill-color: #FFFFFF;\n",
              "      --disabled-bg-color: #3B4455;\n",
              "      --disabled-fill-color: #666;\n",
              "  }\n",
              "\n",
              "  .colab-df-quickchart {\n",
              "    background-color: var(--bg-color);\n",
              "    border: none;\n",
              "    border-radius: 50%;\n",
              "    cursor: pointer;\n",
              "    display: none;\n",
              "    fill: var(--fill-color);\n",
              "    height: 32px;\n",
              "    padding: 0;\n",
              "    width: 32px;\n",
              "  }\n",
              "\n",
              "  .colab-df-quickchart:hover {\n",
              "    background-color: var(--hover-bg-color);\n",
              "    box-shadow: 0 1px 2px rgba(60, 64, 67, 0.3), 0 1px 3px 1px rgba(60, 64, 67, 0.15);\n",
              "    fill: var(--button-hover-fill-color);\n",
              "  }\n",
              "\n",
              "  .colab-df-quickchart-complete:disabled,\n",
              "  .colab-df-quickchart-complete:disabled:hover {\n",
              "    background-color: var(--disabled-bg-color);\n",
              "    fill: var(--disabled-fill-color);\n",
              "    box-shadow: none;\n",
              "  }\n",
              "\n",
              "  .colab-df-spinner {\n",
              "    border: 2px solid var(--fill-color);\n",
              "    border-color: transparent;\n",
              "    border-bottom-color: var(--fill-color);\n",
              "    animation:\n",
              "      spin 1s steps(1) infinite;\n",
              "  }\n",
              "\n",
              "  @keyframes spin {\n",
              "    0% {\n",
              "      border-color: transparent;\n",
              "      border-bottom-color: var(--fill-color);\n",
              "      border-left-color: var(--fill-color);\n",
              "    }\n",
              "    20% {\n",
              "      border-color: transparent;\n",
              "      border-left-color: var(--fill-color);\n",
              "      border-top-color: var(--fill-color);\n",
              "    }\n",
              "    30% {\n",
              "      border-color: transparent;\n",
              "      border-left-color: var(--fill-color);\n",
              "      border-top-color: var(--fill-color);\n",
              "      border-right-color: var(--fill-color);\n",
              "    }\n",
              "    40% {\n",
              "      border-color: transparent;\n",
              "      border-right-color: var(--fill-color);\n",
              "      border-top-color: var(--fill-color);\n",
              "    }\n",
              "    60% {\n",
              "      border-color: transparent;\n",
              "      border-right-color: var(--fill-color);\n",
              "    }\n",
              "    80% {\n",
              "      border-color: transparent;\n",
              "      border-right-color: var(--fill-color);\n",
              "      border-bottom-color: var(--fill-color);\n",
              "    }\n",
              "    90% {\n",
              "      border-color: transparent;\n",
              "      border-bottom-color: var(--fill-color);\n",
              "    }\n",
              "  }\n",
              "</style>\n",
              "\n",
              "      <script>\n",
              "        async function quickchart(key) {\n",
              "          const quickchartButtonEl =\n",
              "            document.querySelector('#' + key + ' button');\n",
              "          quickchartButtonEl.disabled = true;  // To prevent multiple clicks.\n",
              "          quickchartButtonEl.classList.add('colab-df-spinner');\n",
              "          try {\n",
              "            const charts = await google.colab.kernel.invokeFunction(\n",
              "                'suggestCharts', [key], {});\n",
              "          } catch (error) {\n",
              "            console.error('Error during call to suggestCharts:', error);\n",
              "          }\n",
              "          quickchartButtonEl.classList.remove('colab-df-spinner');\n",
              "          quickchartButtonEl.classList.add('colab-df-quickchart-complete');\n",
              "        }\n",
              "        (() => {\n",
              "          let quickchartButtonEl =\n",
              "            document.querySelector('#df-5bd9119e-88bb-4a15-871b-a86d0677576a button');\n",
              "          quickchartButtonEl.style.display =\n",
              "            google.colab.kernel.accessAllowed ? 'block' : 'none';\n",
              "        })();\n",
              "      </script>\n",
              "    </div>\n",
              "\n",
              "    </div>\n",
              "  </div>\n"
            ],
            "application/vnd.google.colaboratory.intrinsic+json": {
              "type": "dataframe",
              "variable_name": "df",
              "summary": "{\n  \"name\": \"df\",\n  \"rows\": 21,\n  \"fields\": [\n    {\n      \"column\": \"Member_ID\",\n      \"properties\": {\n        \"dtype\": \"number\",\n        \"std\": 5,\n        \"min\": 1001,\n        \"max\": 1020,\n        \"num_unique_values\": 20,\n        \"samples\": [\n          1008,\n          1007,\n          1010\n        ],\n        \"semantic_type\": \"\",\n        \"description\": \"\"\n      }\n    },\n    {\n      \"column\": \"Name\",\n      \"properties\": {\n        \"dtype\": \"category\",\n        \"num_unique_values\": 6,\n        \"samples\": [\n          \"Eva\",\n          \"David\",\n          \"Charlie\"\n        ],\n        \"semantic_type\": \"\",\n        \"description\": \"\"\n      }\n    },\n    {\n      \"column\": \"Age\",\n      \"properties\": {\n        \"dtype\": \"number\",\n        \"std\": 12,\n        \"min\": 18,\n        \"max\": 59,\n        \"num_unique_values\": 16,\n        \"samples\": [\n          49,\n          28,\n          46\n        ],\n        \"semantic_type\": \"\",\n        \"description\": \"\"\n      }\n    },\n    {\n      \"column\": \"Gender\",\n      \"properties\": {\n        \"dtype\": \"category\",\n        \"num_unique_values\": 2,\n        \"samples\": [\n          \"Male\",\n          \"Female\"\n        ],\n        \"semantic_type\": \"\",\n        \"description\": \"\"\n      }\n    },\n    {\n      \"column\": \"Membership_Type\",\n      \"properties\": {\n        \"dtype\": \"category\",\n        \"num_unique_values\": 3,\n        \"samples\": [\n          \"Monthly\",\n          \"Quarterly\"\n        ],\n        \"semantic_type\": \"\",\n        \"description\": \"\"\n      }\n    },\n    {\n      \"column\": \"Join_Date\",\n      \"properties\": {\n        \"dtype\": \"object\",\n        \"num_unique_values\": 20,\n        \"samples\": [\n          \"4/16/2023\",\n          \"4/1/2023\"\n        ],\n        \"semantic_type\": \"\",\n        \"description\": \"\"\n      }\n    },\n    {\n      \"column\": \"Last_Visit\",\n      \"properties\": {\n        \"dtype\": \"object\",\n        \"num_unique_values\": 20,\n        \"samples\": [\n          \"4/19/2023\",\n          \"4/12/2023\"\n        ],\n        \"semantic_type\": \"\",\n        \"description\": \"\"\n      }\n    },\n    {\n      \"column\": \"BMI\",\n      \"properties\": {\n        \"dtype\": \"number\",\n        \"std\": 6.03829881933471,\n        \"min\": 15.9,\n        \"max\": 45.0,\n        \"num_unique_values\": 19,\n        \"samples\": [\n          27.3,\n          23.6\n        ],\n        \"semantic_type\": \"\",\n        \"description\": \"\"\n      }\n    },\n    {\n      \"column\": \"Fees_Paid\",\n      \"properties\": {\n        \"dtype\": \"number\",\n        \"std\": 10170,\n        \"min\": 1000,\n        \"max\": 50000,\n        \"num_unique_values\": 5,\n        \"samples\": [\n          2500,\n          9000\n        ],\n        \"semantic_type\": \"\",\n        \"description\": \"\"\n      }\n    }\n  ]\n}"
            }
          },
          "metadata": {},
          "execution_count": 38
        }
      ]
    },
    {
      "cell_type": "code",
      "source": [
        "df.shape\n",
        "df.dropna()"
      ],
      "metadata": {
        "id": "1t3XAS3_wehM",
        "outputId": "9aef7144-7bdb-4711-b24e-4fb6e6baaa16",
        "colab": {
          "base_uri": "https://localhost:8080/",
          "height": 645
        }
      },
      "execution_count": 45,
      "outputs": [
        {
          "output_type": "execute_result",
          "data": {
            "text/plain": [
              "    Member_ID     Name  Age  Gender Membership_Type   Join_Date Last_Visit  \\\n",
              "0        1008      Eva   49  Female         Monthly   4/16/2023  4/19/2023   \n",
              "1        1019    David   28  Female       Quarterly   9/28/2023   7/5/2023   \n",
              "2        1003    Frank   52  Female         Monthly   1/31/2023  3/15/2023   \n",
              "4        1002      Bob   47    Male         Monthly   1/16/2023   3/8/2023   \n",
              "5        1017    Alice   46  Female          Annual   8/29/2023  6/21/2023   \n",
              "6        1020  Charlie   57  Female       Quarterly  10/13/2023  7/12/2023   \n",
              "7        1013    Alice   26    Male          Annual   6/30/2023  5/24/2023   \n",
              "9        1001    David   26    Male       Quarterly    1/1/2023   3/1/2023   \n",
              "10       1006    Frank   28  Female          Annual   3/17/2023   4/5/2023   \n",
              "11       1015      Eva   37  Female          Annual   7/30/2023   6/7/2023   \n",
              "12       1005      Bob   37    Male          Annual    3/2/2023  3/29/2023   \n",
              "13       1009    Alice   41  Female         Monthly    5/1/2023  4/26/2023   \n",
              "14       1014    Frank   54    Male          Annual   7/15/2023  5/31/2023   \n",
              "15       1010    Frank   18    Male         Monthly   5/16/2023   5/3/2023   \n",
              "16       1016    Frank   53    Male       Quarterly   8/14/2023  6/14/2023   \n",
              "17       1006    Frank   28  Female          Annual   3/17/2023   4/5/2023   \n",
              "18       1007    Alice   30  Female          Annual    4/1/2023  4/12/2023   \n",
              "19       1018      Bob   25  Female       Quarterly   9/13/2023  6/28/2023   \n",
              "20       1012      Eva   27    Male          Annual   6/15/2023  5/17/2023   \n",
              "\n",
              "     BMI  Fees_Paid  \n",
              "0   27.3       1000  \n",
              "1   45.0       2500  \n",
              "2   23.3      10000  \n",
              "4   20.9       2500  \n",
              "5   29.0      10000  \n",
              "6   23.6      50000  \n",
              "7   29.6       2500  \n",
              "9   24.0       2500  \n",
              "10  19.4      10000  \n",
              "11  25.9       9000  \n",
              "12  15.9       9000  \n",
              "13  27.4      10000  \n",
              "14  21.3       2500  \n",
              "15  25.5       1000  \n",
              "16  20.6       2500  \n",
              "17  19.4      10000  \n",
              "18  19.8       9000  \n",
              "19  24.6       9000  \n",
              "20  28.0      10000  "
            ],
            "text/html": [
              "\n",
              "  <div id=\"df-381a0c02-5ec8-4188-8f5c-d0b3cb875fac\" class=\"colab-df-container\">\n",
              "    <div>\n",
              "<style scoped>\n",
              "    .dataframe tbody tr th:only-of-type {\n",
              "        vertical-align: middle;\n",
              "    }\n",
              "\n",
              "    .dataframe tbody tr th {\n",
              "        vertical-align: top;\n",
              "    }\n",
              "\n",
              "    .dataframe thead th {\n",
              "        text-align: right;\n",
              "    }\n",
              "</style>\n",
              "<table border=\"1\" class=\"dataframe\">\n",
              "  <thead>\n",
              "    <tr style=\"text-align: right;\">\n",
              "      <th></th>\n",
              "      <th>Member_ID</th>\n",
              "      <th>Name</th>\n",
              "      <th>Age</th>\n",
              "      <th>Gender</th>\n",
              "      <th>Membership_Type</th>\n",
              "      <th>Join_Date</th>\n",
              "      <th>Last_Visit</th>\n",
              "      <th>BMI</th>\n",
              "      <th>Fees_Paid</th>\n",
              "    </tr>\n",
              "  </thead>\n",
              "  <tbody>\n",
              "    <tr>\n",
              "      <th>0</th>\n",
              "      <td>1008</td>\n",
              "      <td>Eva</td>\n",
              "      <td>49</td>\n",
              "      <td>Female</td>\n",
              "      <td>Monthly</td>\n",
              "      <td>4/16/2023</td>\n",
              "      <td>4/19/2023</td>\n",
              "      <td>27.3</td>\n",
              "      <td>1000</td>\n",
              "    </tr>\n",
              "    <tr>\n",
              "      <th>1</th>\n",
              "      <td>1019</td>\n",
              "      <td>David</td>\n",
              "      <td>28</td>\n",
              "      <td>Female</td>\n",
              "      <td>Quarterly</td>\n",
              "      <td>9/28/2023</td>\n",
              "      <td>7/5/2023</td>\n",
              "      <td>45.0</td>\n",
              "      <td>2500</td>\n",
              "    </tr>\n",
              "    <tr>\n",
              "      <th>2</th>\n",
              "      <td>1003</td>\n",
              "      <td>Frank</td>\n",
              "      <td>52</td>\n",
              "      <td>Female</td>\n",
              "      <td>Monthly</td>\n",
              "      <td>1/31/2023</td>\n",
              "      <td>3/15/2023</td>\n",
              "      <td>23.3</td>\n",
              "      <td>10000</td>\n",
              "    </tr>\n",
              "    <tr>\n",
              "      <th>4</th>\n",
              "      <td>1002</td>\n",
              "      <td>Bob</td>\n",
              "      <td>47</td>\n",
              "      <td>Male</td>\n",
              "      <td>Monthly</td>\n",
              "      <td>1/16/2023</td>\n",
              "      <td>3/8/2023</td>\n",
              "      <td>20.9</td>\n",
              "      <td>2500</td>\n",
              "    </tr>\n",
              "    <tr>\n",
              "      <th>5</th>\n",
              "      <td>1017</td>\n",
              "      <td>Alice</td>\n",
              "      <td>46</td>\n",
              "      <td>Female</td>\n",
              "      <td>Annual</td>\n",
              "      <td>8/29/2023</td>\n",
              "      <td>6/21/2023</td>\n",
              "      <td>29.0</td>\n",
              "      <td>10000</td>\n",
              "    </tr>\n",
              "    <tr>\n",
              "      <th>6</th>\n",
              "      <td>1020</td>\n",
              "      <td>Charlie</td>\n",
              "      <td>57</td>\n",
              "      <td>Female</td>\n",
              "      <td>Quarterly</td>\n",
              "      <td>10/13/2023</td>\n",
              "      <td>7/12/2023</td>\n",
              "      <td>23.6</td>\n",
              "      <td>50000</td>\n",
              "    </tr>\n",
              "    <tr>\n",
              "      <th>7</th>\n",
              "      <td>1013</td>\n",
              "      <td>Alice</td>\n",
              "      <td>26</td>\n",
              "      <td>Male</td>\n",
              "      <td>Annual</td>\n",
              "      <td>6/30/2023</td>\n",
              "      <td>5/24/2023</td>\n",
              "      <td>29.6</td>\n",
              "      <td>2500</td>\n",
              "    </tr>\n",
              "    <tr>\n",
              "      <th>9</th>\n",
              "      <td>1001</td>\n",
              "      <td>David</td>\n",
              "      <td>26</td>\n",
              "      <td>Male</td>\n",
              "      <td>Quarterly</td>\n",
              "      <td>1/1/2023</td>\n",
              "      <td>3/1/2023</td>\n",
              "      <td>24.0</td>\n",
              "      <td>2500</td>\n",
              "    </tr>\n",
              "    <tr>\n",
              "      <th>10</th>\n",
              "      <td>1006</td>\n",
              "      <td>Frank</td>\n",
              "      <td>28</td>\n",
              "      <td>Female</td>\n",
              "      <td>Annual</td>\n",
              "      <td>3/17/2023</td>\n",
              "      <td>4/5/2023</td>\n",
              "      <td>19.4</td>\n",
              "      <td>10000</td>\n",
              "    </tr>\n",
              "    <tr>\n",
              "      <th>11</th>\n",
              "      <td>1015</td>\n",
              "      <td>Eva</td>\n",
              "      <td>37</td>\n",
              "      <td>Female</td>\n",
              "      <td>Annual</td>\n",
              "      <td>7/30/2023</td>\n",
              "      <td>6/7/2023</td>\n",
              "      <td>25.9</td>\n",
              "      <td>9000</td>\n",
              "    </tr>\n",
              "    <tr>\n",
              "      <th>12</th>\n",
              "      <td>1005</td>\n",
              "      <td>Bob</td>\n",
              "      <td>37</td>\n",
              "      <td>Male</td>\n",
              "      <td>Annual</td>\n",
              "      <td>3/2/2023</td>\n",
              "      <td>3/29/2023</td>\n",
              "      <td>15.9</td>\n",
              "      <td>9000</td>\n",
              "    </tr>\n",
              "    <tr>\n",
              "      <th>13</th>\n",
              "      <td>1009</td>\n",
              "      <td>Alice</td>\n",
              "      <td>41</td>\n",
              "      <td>Female</td>\n",
              "      <td>Monthly</td>\n",
              "      <td>5/1/2023</td>\n",
              "      <td>4/26/2023</td>\n",
              "      <td>27.4</td>\n",
              "      <td>10000</td>\n",
              "    </tr>\n",
              "    <tr>\n",
              "      <th>14</th>\n",
              "      <td>1014</td>\n",
              "      <td>Frank</td>\n",
              "      <td>54</td>\n",
              "      <td>Male</td>\n",
              "      <td>Annual</td>\n",
              "      <td>7/15/2023</td>\n",
              "      <td>5/31/2023</td>\n",
              "      <td>21.3</td>\n",
              "      <td>2500</td>\n",
              "    </tr>\n",
              "    <tr>\n",
              "      <th>15</th>\n",
              "      <td>1010</td>\n",
              "      <td>Frank</td>\n",
              "      <td>18</td>\n",
              "      <td>Male</td>\n",
              "      <td>Monthly</td>\n",
              "      <td>5/16/2023</td>\n",
              "      <td>5/3/2023</td>\n",
              "      <td>25.5</td>\n",
              "      <td>1000</td>\n",
              "    </tr>\n",
              "    <tr>\n",
              "      <th>16</th>\n",
              "      <td>1016</td>\n",
              "      <td>Frank</td>\n",
              "      <td>53</td>\n",
              "      <td>Male</td>\n",
              "      <td>Quarterly</td>\n",
              "      <td>8/14/2023</td>\n",
              "      <td>6/14/2023</td>\n",
              "      <td>20.6</td>\n",
              "      <td>2500</td>\n",
              "    </tr>\n",
              "    <tr>\n",
              "      <th>17</th>\n",
              "      <td>1006</td>\n",
              "      <td>Frank</td>\n",
              "      <td>28</td>\n",
              "      <td>Female</td>\n",
              "      <td>Annual</td>\n",
              "      <td>3/17/2023</td>\n",
              "      <td>4/5/2023</td>\n",
              "      <td>19.4</td>\n",
              "      <td>10000</td>\n",
              "    </tr>\n",
              "    <tr>\n",
              "      <th>18</th>\n",
              "      <td>1007</td>\n",
              "      <td>Alice</td>\n",
              "      <td>30</td>\n",
              "      <td>Female</td>\n",
              "      <td>Annual</td>\n",
              "      <td>4/1/2023</td>\n",
              "      <td>4/12/2023</td>\n",
              "      <td>19.8</td>\n",
              "      <td>9000</td>\n",
              "    </tr>\n",
              "    <tr>\n",
              "      <th>19</th>\n",
              "      <td>1018</td>\n",
              "      <td>Bob</td>\n",
              "      <td>25</td>\n",
              "      <td>Female</td>\n",
              "      <td>Quarterly</td>\n",
              "      <td>9/13/2023</td>\n",
              "      <td>6/28/2023</td>\n",
              "      <td>24.6</td>\n",
              "      <td>9000</td>\n",
              "    </tr>\n",
              "    <tr>\n",
              "      <th>20</th>\n",
              "      <td>1012</td>\n",
              "      <td>Eva</td>\n",
              "      <td>27</td>\n",
              "      <td>Male</td>\n",
              "      <td>Annual</td>\n",
              "      <td>6/15/2023</td>\n",
              "      <td>5/17/2023</td>\n",
              "      <td>28.0</td>\n",
              "      <td>10000</td>\n",
              "    </tr>\n",
              "  </tbody>\n",
              "</table>\n",
              "</div>\n",
              "    <div class=\"colab-df-buttons\">\n",
              "\n",
              "  <div class=\"colab-df-container\">\n",
              "    <button class=\"colab-df-convert\" onclick=\"convertToInteractive('df-381a0c02-5ec8-4188-8f5c-d0b3cb875fac')\"\n",
              "            title=\"Convert this dataframe to an interactive table.\"\n",
              "            style=\"display:none;\">\n",
              "\n",
              "  <svg xmlns=\"http://www.w3.org/2000/svg\" height=\"24px\" viewBox=\"0 -960 960 960\">\n",
              "    <path d=\"M120-120v-720h720v720H120Zm60-500h600v-160H180v160Zm220 220h160v-160H400v160Zm0 220h160v-160H400v160ZM180-400h160v-160H180v160Zm440 0h160v-160H620v160ZM180-180h160v-160H180v160Zm440 0h160v-160H620v160Z\"/>\n",
              "  </svg>\n",
              "    </button>\n",
              "\n",
              "  <style>\n",
              "    .colab-df-container {\n",
              "      display:flex;\n",
              "      gap: 12px;\n",
              "    }\n",
              "\n",
              "    .colab-df-convert {\n",
              "      background-color: #E8F0FE;\n",
              "      border: none;\n",
              "      border-radius: 50%;\n",
              "      cursor: pointer;\n",
              "      display: none;\n",
              "      fill: #1967D2;\n",
              "      height: 32px;\n",
              "      padding: 0 0 0 0;\n",
              "      width: 32px;\n",
              "    }\n",
              "\n",
              "    .colab-df-convert:hover {\n",
              "      background-color: #E2EBFA;\n",
              "      box-shadow: 0px 1px 2px rgba(60, 64, 67, 0.3), 0px 1px 3px 1px rgba(60, 64, 67, 0.15);\n",
              "      fill: #174EA6;\n",
              "    }\n",
              "\n",
              "    .colab-df-buttons div {\n",
              "      margin-bottom: 4px;\n",
              "    }\n",
              "\n",
              "    [theme=dark] .colab-df-convert {\n",
              "      background-color: #3B4455;\n",
              "      fill: #D2E3FC;\n",
              "    }\n",
              "\n",
              "    [theme=dark] .colab-df-convert:hover {\n",
              "      background-color: #434B5C;\n",
              "      box-shadow: 0px 1px 3px 1px rgba(0, 0, 0, 0.15);\n",
              "      filter: drop-shadow(0px 1px 2px rgba(0, 0, 0, 0.3));\n",
              "      fill: #FFFFFF;\n",
              "    }\n",
              "  </style>\n",
              "\n",
              "    <script>\n",
              "      const buttonEl =\n",
              "        document.querySelector('#df-381a0c02-5ec8-4188-8f5c-d0b3cb875fac button.colab-df-convert');\n",
              "      buttonEl.style.display =\n",
              "        google.colab.kernel.accessAllowed ? 'block' : 'none';\n",
              "\n",
              "      async function convertToInteractive(key) {\n",
              "        const element = document.querySelector('#df-381a0c02-5ec8-4188-8f5c-d0b3cb875fac');\n",
              "        const dataTable =\n",
              "          await google.colab.kernel.invokeFunction('convertToInteractive',\n",
              "                                                    [key], {});\n",
              "        if (!dataTable) return;\n",
              "\n",
              "        const docLinkHtml = 'Like what you see? Visit the ' +\n",
              "          '<a target=\"_blank\" href=https://colab.research.google.com/notebooks/data_table.ipynb>data table notebook</a>'\n",
              "          + ' to learn more about interactive tables.';\n",
              "        element.innerHTML = '';\n",
              "        dataTable['output_type'] = 'display_data';\n",
              "        await google.colab.output.renderOutput(dataTable, element);\n",
              "        const docLink = document.createElement('div');\n",
              "        docLink.innerHTML = docLinkHtml;\n",
              "        element.appendChild(docLink);\n",
              "      }\n",
              "    </script>\n",
              "  </div>\n",
              "\n",
              "\n",
              "    <div id=\"df-8ffbfa3b-aa67-4fd0-87f5-24124286f182\">\n",
              "      <button class=\"colab-df-quickchart\" onclick=\"quickchart('df-8ffbfa3b-aa67-4fd0-87f5-24124286f182')\"\n",
              "                title=\"Suggest charts\"\n",
              "                style=\"display:none;\">\n",
              "\n",
              "<svg xmlns=\"http://www.w3.org/2000/svg\" height=\"24px\"viewBox=\"0 0 24 24\"\n",
              "     width=\"24px\">\n",
              "    <g>\n",
              "        <path d=\"M19 3H5c-1.1 0-2 .9-2 2v14c0 1.1.9 2 2 2h14c1.1 0 2-.9 2-2V5c0-1.1-.9-2-2-2zM9 17H7v-7h2v7zm4 0h-2V7h2v10zm4 0h-2v-4h2v4z\"/>\n",
              "    </g>\n",
              "</svg>\n",
              "      </button>\n",
              "\n",
              "<style>\n",
              "  .colab-df-quickchart {\n",
              "      --bg-color: #E8F0FE;\n",
              "      --fill-color: #1967D2;\n",
              "      --hover-bg-color: #E2EBFA;\n",
              "      --hover-fill-color: #174EA6;\n",
              "      --disabled-fill-color: #AAA;\n",
              "      --disabled-bg-color: #DDD;\n",
              "  }\n",
              "\n",
              "  [theme=dark] .colab-df-quickchart {\n",
              "      --bg-color: #3B4455;\n",
              "      --fill-color: #D2E3FC;\n",
              "      --hover-bg-color: #434B5C;\n",
              "      --hover-fill-color: #FFFFFF;\n",
              "      --disabled-bg-color: #3B4455;\n",
              "      --disabled-fill-color: #666;\n",
              "  }\n",
              "\n",
              "  .colab-df-quickchart {\n",
              "    background-color: var(--bg-color);\n",
              "    border: none;\n",
              "    border-radius: 50%;\n",
              "    cursor: pointer;\n",
              "    display: none;\n",
              "    fill: var(--fill-color);\n",
              "    height: 32px;\n",
              "    padding: 0;\n",
              "    width: 32px;\n",
              "  }\n",
              "\n",
              "  .colab-df-quickchart:hover {\n",
              "    background-color: var(--hover-bg-color);\n",
              "    box-shadow: 0 1px 2px rgba(60, 64, 67, 0.3), 0 1px 3px 1px rgba(60, 64, 67, 0.15);\n",
              "    fill: var(--button-hover-fill-color);\n",
              "  }\n",
              "\n",
              "  .colab-df-quickchart-complete:disabled,\n",
              "  .colab-df-quickchart-complete:disabled:hover {\n",
              "    background-color: var(--disabled-bg-color);\n",
              "    fill: var(--disabled-fill-color);\n",
              "    box-shadow: none;\n",
              "  }\n",
              "\n",
              "  .colab-df-spinner {\n",
              "    border: 2px solid var(--fill-color);\n",
              "    border-color: transparent;\n",
              "    border-bottom-color: var(--fill-color);\n",
              "    animation:\n",
              "      spin 1s steps(1) infinite;\n",
              "  }\n",
              "\n",
              "  @keyframes spin {\n",
              "    0% {\n",
              "      border-color: transparent;\n",
              "      border-bottom-color: var(--fill-color);\n",
              "      border-left-color: var(--fill-color);\n",
              "    }\n",
              "    20% {\n",
              "      border-color: transparent;\n",
              "      border-left-color: var(--fill-color);\n",
              "      border-top-color: var(--fill-color);\n",
              "    }\n",
              "    30% {\n",
              "      border-color: transparent;\n",
              "      border-left-color: var(--fill-color);\n",
              "      border-top-color: var(--fill-color);\n",
              "      border-right-color: var(--fill-color);\n",
              "    }\n",
              "    40% {\n",
              "      border-color: transparent;\n",
              "      border-right-color: var(--fill-color);\n",
              "      border-top-color: var(--fill-color);\n",
              "    }\n",
              "    60% {\n",
              "      border-color: transparent;\n",
              "      border-right-color: var(--fill-color);\n",
              "    }\n",
              "    80% {\n",
              "      border-color: transparent;\n",
              "      border-right-color: var(--fill-color);\n",
              "      border-bottom-color: var(--fill-color);\n",
              "    }\n",
              "    90% {\n",
              "      border-color: transparent;\n",
              "      border-bottom-color: var(--fill-color);\n",
              "    }\n",
              "  }\n",
              "</style>\n",
              "\n",
              "      <script>\n",
              "        async function quickchart(key) {\n",
              "          const quickchartButtonEl =\n",
              "            document.querySelector('#' + key + ' button');\n",
              "          quickchartButtonEl.disabled = true;  // To prevent multiple clicks.\n",
              "          quickchartButtonEl.classList.add('colab-df-spinner');\n",
              "          try {\n",
              "            const charts = await google.colab.kernel.invokeFunction(\n",
              "                'suggestCharts', [key], {});\n",
              "          } catch (error) {\n",
              "            console.error('Error during call to suggestCharts:', error);\n",
              "          }\n",
              "          quickchartButtonEl.classList.remove('colab-df-spinner');\n",
              "          quickchartButtonEl.classList.add('colab-df-quickchart-complete');\n",
              "        }\n",
              "        (() => {\n",
              "          let quickchartButtonEl =\n",
              "            document.querySelector('#df-8ffbfa3b-aa67-4fd0-87f5-24124286f182 button');\n",
              "          quickchartButtonEl.style.display =\n",
              "            google.colab.kernel.accessAllowed ? 'block' : 'none';\n",
              "        })();\n",
              "      </script>\n",
              "    </div>\n",
              "\n",
              "    </div>\n",
              "  </div>\n"
            ],
            "application/vnd.google.colaboratory.intrinsic+json": {
              "type": "dataframe",
              "summary": "{\n  \"name\": \"df\",\n  \"rows\": 19,\n  \"fields\": [\n    {\n      \"column\": \"Member_ID\",\n      \"properties\": {\n        \"dtype\": \"number\",\n        \"std\": 5,\n        \"min\": 1001,\n        \"max\": 1020,\n        \"num_unique_values\": 18,\n        \"samples\": [\n          1008,\n          1019,\n          1006\n        ],\n        \"semantic_type\": \"\",\n        \"description\": \"\"\n      }\n    },\n    {\n      \"column\": \"Name\",\n      \"properties\": {\n        \"dtype\": \"category\",\n        \"num_unique_values\": 6,\n        \"samples\": [\n          \"Eva\",\n          \"David\",\n          \"Charlie\"\n        ],\n        \"semantic_type\": \"\",\n        \"description\": \"\"\n      }\n    },\n    {\n      \"column\": \"Age\",\n      \"properties\": {\n        \"dtype\": \"number\",\n        \"std\": 12,\n        \"min\": 18,\n        \"max\": 57,\n        \"num_unique_values\": 15,\n        \"samples\": [\n          54,\n          53,\n          49\n        ],\n        \"semantic_type\": \"\",\n        \"description\": \"\"\n      }\n    },\n    {\n      \"column\": \"Gender\",\n      \"properties\": {\n        \"dtype\": \"category\",\n        \"num_unique_values\": 2,\n        \"samples\": [\n          \"Male\",\n          \"Female\"\n        ],\n        \"semantic_type\": \"\",\n        \"description\": \"\"\n      }\n    },\n    {\n      \"column\": \"Membership_Type\",\n      \"properties\": {\n        \"dtype\": \"category\",\n        \"num_unique_values\": 3,\n        \"samples\": [\n          \"Monthly\",\n          \"Quarterly\"\n        ],\n        \"semantic_type\": \"\",\n        \"description\": \"\"\n      }\n    },\n    {\n      \"column\": \"Join_Date\",\n      \"properties\": {\n        \"dtype\": \"object\",\n        \"num_unique_values\": 18,\n        \"samples\": [\n          \"4/16/2023\",\n          \"9/28/2023\"\n        ],\n        \"semantic_type\": \"\",\n        \"description\": \"\"\n      }\n    },\n    {\n      \"column\": \"Last_Visit\",\n      \"properties\": {\n        \"dtype\": \"object\",\n        \"num_unique_values\": 18,\n        \"samples\": [\n          \"4/19/2023\",\n          \"7/5/2023\"\n        ],\n        \"semantic_type\": \"\",\n        \"description\": \"\"\n      }\n    },\n    {\n      \"column\": \"BMI\",\n      \"properties\": {\n        \"dtype\": \"number\",\n        \"std\": 6.1718186160352895,\n        \"min\": 15.9,\n        \"max\": 45.0,\n        \"num_unique_values\": 18,\n        \"samples\": [\n          27.3,\n          45.0\n        ],\n        \"semantic_type\": \"\",\n        \"description\": \"\"\n      }\n    },\n    {\n      \"column\": \"Fees_Paid\",\n      \"properties\": {\n        \"dtype\": \"number\",\n        \"std\": 10711,\n        \"min\": 1000,\n        \"max\": 50000,\n        \"num_unique_values\": 5,\n        \"samples\": [\n          2500,\n          9000\n        ],\n        \"semantic_type\": \"\",\n        \"description\": \"\"\n      }\n    }\n  ]\n}"
            }
          },
          "metadata": {},
          "execution_count": 45
        }
      ]
    },
    {
      "cell_type": "code",
      "source": [
        "print(df.duplicated())\n",
        "print(df.duplicated().sum())"
      ],
      "metadata": {
        "id": "OCTnWQc-wywb",
        "outputId": "8373d911-ce28-43bc-b82c-5b4db0e72cba",
        "colab": {
          "base_uri": "https://localhost:8080/"
        }
      },
      "execution_count": 51,
      "outputs": [
        {
          "output_type": "stream",
          "name": "stdout",
          "text": [
            "0     False\n",
            "1     False\n",
            "2     False\n",
            "3     False\n",
            "4     False\n",
            "5     False\n",
            "6     False\n",
            "7     False\n",
            "8     False\n",
            "9     False\n",
            "10    False\n",
            "11    False\n",
            "12    False\n",
            "13    False\n",
            "14    False\n",
            "15    False\n",
            "16    False\n",
            "17     True\n",
            "18    False\n",
            "19    False\n",
            "20    False\n",
            "dtype: bool\n",
            "1\n"
          ]
        }
      ]
    },
    {
      "cell_type": "code",
      "source": [
        "import matplotlib.pyplot as plt\n",
        "import seaborn as sns\n",
        "sns.histplot(df['Age'],kde=True)\n"
      ],
      "metadata": {
        "id": "ksoqrS1hxPwd",
        "outputId": "59894557-3bcf-40a9-8331-dbe7065377a3",
        "colab": {
          "base_uri": "https://localhost:8080/",
          "height": 467
        }
      },
      "execution_count": 52,
      "outputs": [
        {
          "output_type": "execute_result",
          "data": {
            "text/plain": [
              "<Axes: xlabel='Age', ylabel='Count'>"
            ]
          },
          "metadata": {},
          "execution_count": 52
        },
        {
          "output_type": "display_data",
          "data": {
            "text/plain": [
              "<Figure size 640x480 with 1 Axes>"
            ],
            "image/png": "[encoded data removed]"
          },
          "metadata": {}
        }
      ]
    },
    {
      "cell_type": "code",
      "source": [
        "Q1=df['Fees_Paid'].quantile(0.25)\n",
        "Q3=df['Fees_Paid'].quantile(0.75)\n",
        "IQR=Q3-Q1\n",
        "lower=Q1-1.5*IQR\n",
        "upper=Q3+1.5*IQR\n",
        "df=df[(df['Fees_Paid']>lower)&(df['Fees_Paid']<upper)]\n",
        "sns.boxplot(data=df,y='Fees_Paid')\n",
        ""
      ],
      "metadata": {
        "id": "DNnoRhq30tYg",
        "outputId": "bfb6ebea-9391-4936-b54b-73372daf64ba",
        "colab": {
          "base_uri": "https://localhost:8080/",
          "height": 429
        }
      },
      "execution_count": 53,
      "outputs": [
        {
          "output_type": "execute_result",
          "data": {
            "text/plain": [
              "<Axes: ylabel='Fees_Paid'>"
            ]
          },
          "metadata": {},
          "execution_count": 53
        },
        {
          "output_type": "display_data",
          "data": {
            "text/plain": [
              "<Figure size 640x480 with 1 Axes>"
            ],
            "image/png": "[encoded data removed]"
          },
          "metadata": {}
        }
      ]
    }
  ]
}